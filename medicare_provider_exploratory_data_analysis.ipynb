{
  "nbformat": 4,
  "nbformat_minor": 0,
  "metadata": {
    "colab": {
      "name": "medicare_provider_exploratory_data_analysis.ipynb",
      "provenance": [],
      "collapsed_sections": [],
      "toc_visible": true,
      "include_colab_link": true
    },
    "kernelspec": {
      "name": "python3",
      "display_name": "Python 3"
    }
  },
  "cells": [
    {
      "cell_type": "markdown",
      "metadata": {
        "id": "view-in-github",
        "colab_type": "text"
      },
      "source": [
        "<a href=\"https://colab.research.google.com/github/hamsiniR/Fraud-detection-Health-Insurance/blob/master/medicare_provider_exploratory_data_analysis.ipynb\" target=\"_parent\"><img src=\"https://colab.research.google.com/assets/colab-badge.svg\" alt=\"Open In Colab\"/></a>"
      ]
    },
    {
      "cell_type": "markdown",
      "metadata": {
        "id": "U4hrQ_dcXI9N",
        "colab_type": "text"
      },
      "source": [
        "**Exploratory Analysis**"
      ]
    },
    {
      "cell_type": "code",
      "metadata": {
        "id": "uYoA0CkEdO0k",
        "colab_type": "code",
        "colab": {
          "base_uri": "https://localhost:8080/",
          "height": 33
        },
        "outputId": "d4060ba3-031b-4d54-e125-4c5b6a846e89"
      },
      "source": [
        "from google.colab import drive\n",
        "drive.mount('/content/drive')"
      ],
      "execution_count": null,
      "outputs": [
        {
          "output_type": "stream",
          "text": [
            "Mounted at /content/drive\n"
          ],
          "name": "stdout"
        }
      ]
    },
    {
      "cell_type": "markdown",
      "metadata": {
        "id": "TmNjBKoUHy8Q",
        "colab_type": "text"
      },
      "source": [
        ""
      ]
    },
    {
      "cell_type": "code",
      "metadata": {
        "id": "2kWBqpY_XwuA",
        "colab_type": "code",
        "colab": {
          "base_uri": "https://localhost:8080/",
          "height": 33
        },
        "outputId": "3cfb59f4-bbf7-479a-ae57-cdebefba8f0e"
      },
      "source": [
        "import pandas as pd\n",
        "import numpy as np\n",
        "import scipy as sc\n",
        "import seaborn as sns\n",
        "import matplotlib.pyplot as plt\n",
        "import pandas_profiling as profile   # To check data distributions and correlations\n",
        "import warnings     # for supressing a warning when importing large files\n",
        "warnings.filterwarnings(\"ignore\")\n",
        "from sklearn.preprocessing import StandardScaler,MinMaxScaler\n",
        "from sklearn.model_selection import train_test_split\n",
        "import pickle\n",
        "import matplotlib.pyplot as plt\n",
        "from scipy import stats\n",
        "import tensorflow as tf\n",
        "from pylab import rcParams\n",
        "from keras.models import Model, load_model\n",
        "from keras.layers import Input, Dense\n",
        "from keras.callbacks import ModelCheckpoint, TensorBoard\n",
        "from keras import regularizers\n",
        "%matplotlib inline\n",
        "sns.set(style='whitegrid', palette='muted', font_scale=1.5)\n",
        "rcParams['figure.figsize'] = 14, 8\n",
        "RANDOM_SEED = 42\n",
        "\n",
        "LABELS = [\"Normal\", \"Fraud\"]"
      ],
      "execution_count": null,
      "outputs": [
        {
          "output_type": "stream",
          "text": [
            "Using TensorFlow backend.\n"
          ],
          "name": "stderr"
        }
      ]
    },
    {
      "cell_type": "code",
      "metadata": {
        "id": "SsrQB-4-SJJz",
        "colab_type": "code",
        "colab": {
          "base_uri": "https://localhost:8080/",
          "height": 493
        },
        "outputId": "93c7d53e-48fb-4951-c3da-5bb260880a37"
      },
      "source": [
        "#PLotting the frequencies of fraud and non-fraud Merged transactions in the data\n",
        "data = pd.read_csv(\"/content/drive/My Drive/Final_year_Project/Datasets/Train_ProviderWithPatientDetailsdata.csv\")\n",
        "sns.set_style('dark',rc={'figure.figsize':(12,8)})\n",
        "count_classes = pd.value_counts(data['PotentialFraud'], sort = True)\n",
        "print(\"Percent Distribution of Potential Fraud class:- \\n\",count_classes*100/len(data))\n",
        "LABELS = [\"Non Fraud\", \"Fraud\"]\n",
        "#Drawing a barplot\n",
        "count_classes.plot(kind = 'bar', rot=0,figsize=(10,6),color=['blue','orange'])\n",
        "\n",
        "#Giving titles and labels to the plot\n",
        "plt.title(\"Potential Fraud distribution in Aggregated claim transactional data\")\n",
        "plt.xticks(range(2), LABELS)\n",
        "plt.xlabel(\"Potential Fraud Class \")\n",
        "plt.ylabel(\"Number of PotentialFraud per Class \")\n",
        "\n",
        "plt.savefig('PotentialFraudDistributionInMergedData')"
      ],
      "execution_count": null,
      "outputs": [
        {
          "output_type": "stream",
          "text": [
            "Percent Distribution of Potential Fraud class:- \n",
            " No     61.878931\n",
            "Yes    38.121069\n",
            "Name: PotentialFraud, dtype: float64\n"
          ],
          "name": "stdout"
        },
        {
          "output_type": "display_data",
          "data": {
            "image/png": "[encoded data removed]",
            "text/plain": [
              "<Figure size 720x432 with 1 Axes>"
            ]
          },
          "metadata": {
            "tags": []
          }
        }
      ]
    },
    {
      "cell_type": "code",
      "metadata": {
        "id": "KWqkBifDXHN0",
        "colab_type": "code",
        "colab": {
          "base_uri": "https://localhost:8080/",
          "height": 510
        },
        "outputId": "24cb5393-5772-4c53-8569-724b8ad72153"
      },
      "source": [
        "#PLotting the frequencies of fraud and non-fraud transactions in the train data\n",
        "Train = pd.read_csv(\"/content/drive/My Drive/Final_year_Project/Datasets/Train-1542865627584.csv\")\n",
        "count_classes_provider = pd.value_counts(Train['PotentialFraud'], sort = True)\n",
        "print(\"Percent Distribution of Potential Fraud class:- \\n\",count_classes_provider*100/len(Train))\n",
        "LABELS = [\"Non Fraud\", \"Fraud\"]\n",
        "#Drawing a barplot\n",
        "count_classes_provider.plot(kind = 'bar', rot=0,figsize=(10,6),color=['blue','red'])\n",
        "\n",
        "#Giving titles and labels to the plot\n",
        "plt.title(\"Potential Fraud distribution in individual Providers data\")\n",
        "plt.xticks(range(2), LABELS)\n",
        "plt.xlabel(\"Potential Fraud Class \")\n",
        "plt.ylabel(\"Number of PotentialFraud per Class \")"
      ],
      "execution_count": null,
      "outputs": [
        {
          "output_type": "stream",
          "text": [
            "Percent Distribution of Potential Fraud class:- \n",
            " No     90.64695\n",
            "Yes     9.35305\n",
            "Name: PotentialFraud, dtype: float64\n"
          ],
          "name": "stdout"
        },
        {
          "output_type": "execute_result",
          "data": {
            "text/plain": [
              "Text(0, 0.5, 'Number of PotentialFraud per Class ')"
            ]
          },
          "metadata": {
            "tags": []
          },
          "execution_count": 38
        },
        {
          "output_type": "display_data",
          "data": {
            "image/png": "[encoded data removed]",
            "text/plain": [
              "<Figure size 720x432 with 1 Axes>"
            ]
          },
          "metadata": {
            "tags": []
          }
        }
      ]
    },
    {
      "cell_type": "markdown",
      "metadata": {
        "id": "GdG6YUdUXmxB",
        "colab_type": "text"
      },
      "source": [
        "**Top-10 Procedures involved in Healthcare Fraud**"
      ]
    },
    {
      "cell_type": "code",
      "metadata": {
        "id": "OoqgIZtsMysK",
        "colab_type": "code",
        "colab": {
          "base_uri": "https://localhost:8080/",
          "height": 535
        },
        "outputId": "7068ce26-fcec-4f68-f6ba-c25448d68ea6"
      },
      "source": [
        "#plot countplot for each fraud non fraud categories\n",
        "\n",
        "sns.set(rc={'figure.figsize':(12,8)},style='white')\n",
        "\n",
        "ax=sns.countplot(x='ClmProcedureCode_1',hue='PotentialFraud',data=data\n",
        "              ,order=data.ClmProcedureCode_1.value_counts().iloc[:10].index)\n",
        "\n",
        "plt.title('Top-10 Procedures invloved in Healthcare Fraud')\n",
        "    \n",
        "plt.show()\n",
        "\n",
        "plt.savefig('TopProceduresinvlovedinHealthcareFraud')"
      ],
      "execution_count": null,
      "outputs": [
        {
          "output_type": "display_data",
          "data": {
            "image/png": "[encoded data removed]",
            "text/plain": [
              "<Figure size 864x576 with 1 Axes>"
            ]
          },
          "metadata": {
            "tags": []
          }
        },
        {
          "output_type": "display_data",
          "data": {
            "text/plain": [
              "<Figure size 864x576 with 0 Axes>"
            ]
          },
          "metadata": {
            "tags": []
          }
        }
      ]
    },
    {
      "cell_type": "markdown",
      "metadata": {
        "id": "lXIJAKtJYMSb",
        "colab_type": "text"
      },
      "source": [
        "From the above plot,we can say that diagnosis 4019,4011,2724 are top diagnosis (in terms of money involved).Distribution of fraud and non fraud counts shows suspicious transactions involved in them."
      ]
    },
    {
      "cell_type": "code",
      "metadata": {
        "id": "CtYVBTxBX12s",
        "colab_type": "code",
        "colab": {
          "base_uri": "https://localhost:8080/",
          "height": 588
        },
        "outputId": "4088cc71-f90a-4cee-d447-a869228e253f"
      },
      "source": [
        "### lets plot Top-20 Attending Physicians involved in Healthcare Fraud \n",
        "\n",
        "sns.set(rc={'figure.figsize':(12,8)},style='white')\n",
        "\n",
        "ax= sns.countplot(x='AttendingPhysician',hue='PotentialFraud',data=data\n",
        "              ,order=data.AttendingPhysician.value_counts().iloc[:20].index)\n",
        "\n",
        "    \n",
        "plt.title('Top-20 Attending physicians involved in Healthcare Fraud')\n",
        "plt.xticks(rotation=90)\n",
        "plt.show()\n",
        "\n",
        "plt.savefig('TopAttendingphysiciansinvlovedinHealthcareFraud')"
      ],
      "execution_count": null,
      "outputs": [
        {
          "output_type": "display_data",
          "data": {
            "image/png": "[encoded data removed]",
            "text/plain": [
              "<Figure size 864x576 with 1 Axes>"
            ]
          },
          "metadata": {
            "tags": []
          }
        },
        {
          "output_type": "display_data",
          "data": {
            "text/plain": [
              "<Figure size 864x576 with 0 Axes>"
            ]
          },
          "metadata": {
            "tags": []
          }
        }
      ]
    },
    {
      "cell_type": "markdown",
      "metadata": {
        "id": "tYa8YUSYj_xR",
        "colab_type": "text"
      },
      "source": [
        "Inference : In the above plot,we see count of involvement of attending physicians.And flags the nature of provider where they are working is whether fraud or non fraud."
      ]
    },
    {
      "cell_type": "code",
      "metadata": {
        "id": "HTgQO8Tsj0wa",
        "colab_type": "code",
        "colab": {
          "base_uri": "https://localhost:8080/",
          "height": 365
        },
        "outputId": "ea6d90c2-f0b1-4be6-e3e1-b6815001e16e"
      },
      "source": [
        "#Plot IPAnnualDeductibleAmt and IPAnnualReimbursementAmt in both fraud and non Fraud Categoories\n",
        "\n",
        "sns.set(rc={'figure.figsize':(12,8)},style='white')\n",
        "\n",
        "sns.lmplot(x='IPAnnualDeductibleAmt',y='IPAnnualReimbursementAmt',hue='PotentialFraud',\n",
        "           col='PotentialFraud',fit_reg=False,data=data)\n",
        "\n",
        "\n",
        "#plt.title('IPAnnualDeductibleAmt and IPAnnualReimbursementAmt in both fraud and non Fraud Categories')\n",
        "\n",
        "plt.savefig('IPAnnualDeductibleAmtandIPAnnualReimbursementAmtinbothfraudandnonFraud')"
      ],
      "execution_count": null,
      "outputs": [
        {
          "output_type": "display_data",
          "data": {
            "image/png": "[encoded data removed]",
            "text/plain": [
              "<Figure size 720x360 with 2 Axes>"
            ]
          },
          "metadata": {
            "tags": []
          }
        }
      ]
    },
    {
      "cell_type": "markdown",
      "metadata": {
        "id": "C-_g2Ke3HTIB",
        "colab_type": "text"
      },
      "source": [
        "No visible changes observed"
      ]
    },
    {
      "cell_type": "markdown",
      "metadata": {
        "id": "0d5wUcWxHcKZ",
        "colab_type": "text"
      },
      "source": [
        "DeductibleAmtPaid Vs InsClaimAmtReimbursed in Fraud and non Fraud Categories"
      ]
    },
    {
      "cell_type": "code",
      "metadata": {
        "id": "y664wVnKGvJZ",
        "colab_type": "code",
        "colab": {
          "base_uri": "https://localhost:8080/",
          "height": 365
        },
        "outputId": "87c54526-bd48-42e9-e043-1b32f2f82623"
      },
      "source": [
        "sns.set(rc={'figure.figsize':(12,8)},style='white')\n",
        "\n",
        "sns.lmplot(x='DeductibleAmtPaid',y='InscClaimAmtReimbursed',hue='PotentialFraud',\n",
        "           col='PotentialFraud',fit_reg=False,data=data)\n",
        "\n",
        "\n",
        "plt.savefig('DeductibleAmtPaidandInsClaimAmtReimbursed')"
      ],
      "execution_count": null,
      "outputs": [
        {
          "output_type": "display_data",
          "data": {
            "image/png": "[encoded data removed]",
            "text/plain": [
              "<Figure size 720x360 with 2 Axes>"
            ]
          },
          "metadata": {
            "tags": []
          }
        }
      ]
    },
    {
      "cell_type": "markdown",
      "metadata": {
        "id": "3s4VOriZHotT",
        "colab_type": "text"
      },
      "source": [
        "Difficulty in differenciating between fraud and non fraud "
      ]
    },
    {
      "cell_type": "markdown",
      "metadata": {
        "id": "slrSQjz-IMzY",
        "colab_type": "text"
      },
      "source": [
        "Now we will be checking the frauds between age and the Insurance claim Amount Reimbursed"
      ]
    },
    {
      "cell_type": "code",
      "metadata": {
        "id": "AGWS1ujqHgVn",
        "colab_type": "code",
        "colab": {
          "base_uri": "https://localhost:8080/",
          "height": 560
        },
        "outputId": "5bef2159-15b8-4ab9-93a0-de6367f64abc"
      },
      "source": [
        "## Let's See Insurance Claim Amount Reimbursed Vs Age\n",
        "sns.set(rc={'figure.figsize':(12,8)},style='white')\n",
        "\n",
        "f, (ax1, ax2) = plt.subplots(2, 1, sharex=True)\n",
        "f.suptitle('Insurance Claim Amount Reimbursed Vs Age')\n",
        "\n",
        "ax1.scatter(data[data.PotentialFraud=='Yes'].Age, \n",
        "            data[data.PotentialFraud=='Yes'].InscClaimAmtReimbursed)\n",
        "ax1.set_title('Fraud')\n",
        "ax1.axhline(y=60000,c='r')\n",
        "ax1.set_ylabel('Insurance Claim Amout Reimbursed')\n",
        "\n",
        "ax2.scatter(data[data.PotentialFraud=='No'].Age, \n",
        "            data[data.PotentialFraud=='No'].InscClaimAmtReimbursed)\n",
        "ax2.set_title('Normal')\n",
        "ax2.axhline(y=60000,c='r')\n",
        "ax2.set_xlabel('Age (in Years)')\n",
        "ax2.set_ylabel('Insurance Claim Amout Reimbursed')\n",
        "\n",
        "plt.show()\n",
        "f.savefig('AgeVsClaimAmtReimbursed')"
      ],
      "execution_count": null,
      "outputs": [
        {
          "output_type": "display_data",
          "data": {
            "image/png": "[encoded data removed]",
            "text/plain": [
              "<Figure size 864x576 with 2 Axes>"
            ]
          },
          "metadata": {
            "tags": []
          }
        }
      ]
    },
    {
      "cell_type": "markdown",
      "metadata": {
        "id": "cb3cZruEI21m",
        "colab_type": "text"
      },
      "source": [
        "From the above graph,we see that occurance of fraud cases is more frequent in lower age groups(30-70 years) compared to higher age groups(70+ years).Age is one of the important feature for differentiating between fraud and non fraud behaviour."
      ]
    },
    {
      "cell_type": "markdown",
      "metadata": {
        "id": "yxiQXTMeJ1z-",
        "colab_type": "text"
      },
      "source": [
        "**Feature Engineering**"
      ]
    },
    {
      "cell_type": "markdown",
      "metadata": {
        "id": "Mssjc-BhKEs_",
        "colab_type": "text"
      },
      "source": [
        "Appending the train and test data improves the accuracy of the prediction model"
      ]
    },
    {
      "cell_type": "code",
      "metadata": {
        "id": "le7CjkzBKmHs",
        "colab_type": "code",
        "colab": {}
      },
      "source": [
        "Train = pd.read_csv(\"/content/drive/My Drive/Final_year_Project/Datasets/Train_ProviderWithPatientDetailsdata.csv\")\n",
        "Test = pd.read_csv(\"/content/drive/My Drive/Final_year_Project/Datasets/Test_ProviderWithPatientDetailsdata.csv\")"
      ],
      "execution_count": null,
      "outputs": []
    },
    {
      "cell_type": "code",
      "metadata": {
        "id": "25hoJbLkIn4h",
        "colab_type": "code",
        "colab": {
          "base_uri": "https://localhost:8080/",
          "height": 33
        },
        "outputId": "dc25337e-fe85-4020-8792-7a81a7a5140d"
      },
      "source": [
        "Test_copy=Test\n",
        "print('Shape of Test Copy :-',Test_copy.shape)"
      ],
      "execution_count": null,
      "outputs": [
        {
          "output_type": "stream",
          "text": [
            "Shape of Test Copy :- (135392, 55)\n"
          ],
          "name": "stdout"
        }
      ]
    },
    {
      "cell_type": "code",
      "metadata": {
        "id": "KkO-A4itK5gy",
        "colab_type": "code",
        "colab": {}
      },
      "source": [
        "# we will use the columns of test to merge the dataset\n",
        "col_merge=Test.columns\n",
        "## Lets add both test and train datasets\n",
        "\n",
        "Test_data=pd.concat([Test,Train[col_merge]])"
      ],
      "execution_count": null,
      "outputs": []
    },
    {
      "cell_type": "code",
      "metadata": {
        "id": "zsQZP5V6LOVD",
        "colab_type": "code",
        "colab": {
          "base_uri": "https://localhost:8080/",
          "height": 50
        },
        "outputId": "b30bb36f-e87a-4922-da8c-6cfafa18c790"
      },
      "source": [
        "print(\"Shape of Test After Concatenation\",Test_data.shape)\n",
        "\n",
        "print(\"Expected rows after addition\",135392+558211)\n"
      ],
      "execution_count": null,
      "outputs": [
        {
          "output_type": "stream",
          "text": [
            "Shape of Test After Concatenation (693603, 55)\n",
            "Expected rows after addition 693603\n"
          ],
          "name": "stdout"
        }
      ]
    },
    {
      "cell_type": "code",
      "metadata": {
        "id": "slFeNLf1Le0t",
        "colab_type": "code",
        "colab": {
          "base_uri": "https://localhost:8080/",
          "height": 131
        },
        "outputId": "28626552-0456-4169-c584-9f57d8b5e6ba"
      },
      "source": [
        "Test_data.iloc[[135392]]"
      ],
      "execution_count": null,
      "outputs": [
        {
          "output_type": "execute_result",
          "data": {
            "text/html": [
              "<div>\n",
              "<style scoped>\n",
              "    .dataframe tbody tr th:only-of-type {\n",
              "        vertical-align: middle;\n",
              "    }\n",
              "\n",
              "    .dataframe tbody tr th {\n",
              "        vertical-align: top;\n",
              "    }\n",
              "\n",
              "    .dataframe thead th {\n",
              "        text-align: right;\n",
              "    }\n",
              "</style>\n",
              "<table border=\"1\" class=\"dataframe\">\n",
              "  <thead>\n",
              "    <tr style=\"text-align: right;\">\n",
              "      <th></th>\n",
              "      <th>Unnamed: 0</th>\n",
              "      <th>Provider</th>\n",
              "      <th>BeneID</th>\n",
              "      <th>ClaimID</th>\n",
              "      <th>ClaimStartDt</th>\n",
              "      <th>ClaimEndDt</th>\n",
              "      <th>InscClaimAmtReimbursed</th>\n",
              "      <th>AttendingPhysician</th>\n",
              "      <th>OperatingPhysician</th>\n",
              "      <th>OtherPhysician</th>\n",
              "      <th>ClmDiagnosisCode_1</th>\n",
              "      <th>ClmDiagnosisCode_2</th>\n",
              "      <th>ClmDiagnosisCode_3</th>\n",
              "      <th>ClmDiagnosisCode_4</th>\n",
              "      <th>ClmDiagnosisCode_5</th>\n",
              "      <th>ClmDiagnosisCode_6</th>\n",
              "      <th>ClmDiagnosisCode_7</th>\n",
              "      <th>ClmDiagnosisCode_8</th>\n",
              "      <th>ClmDiagnosisCode_9</th>\n",
              "      <th>ClmDiagnosisCode_10</th>\n",
              "      <th>ClmProcedureCode_1</th>\n",
              "      <th>ClmProcedureCode_2</th>\n",
              "      <th>ClmProcedureCode_3</th>\n",
              "      <th>ClmProcedureCode_4</th>\n",
              "      <th>ClmProcedureCode_5</th>\n",
              "      <th>ClmProcedureCode_6</th>\n",
              "      <th>DeductibleAmtPaid</th>\n",
              "      <th>ClmAdmitDiagnosisCode</th>\n",
              "      <th>AdmissionDt</th>\n",
              "      <th>DischargeDt</th>\n",
              "      <th>DiagnosisGroupCode</th>\n",
              "      <th>AdmitForDays</th>\n",
              "      <th>DOB</th>\n",
              "      <th>DOD</th>\n",
              "      <th>Gender</th>\n",
              "      <th>RenalDiseaseIndicator</th>\n",
              "      <th>NoOfMonths_PartACov</th>\n",
              "      <th>NoOfMonths_PartBCov</th>\n",
              "      <th>ChronicCond_Alzheimer</th>\n",
              "      <th>ChronicCond_Heartfailure</th>\n",
              "      <th>ChronicCond_KidneyDisease</th>\n",
              "      <th>ChronicCond_Cancer</th>\n",
              "      <th>ChronicCond_ObstrPulmonary</th>\n",
              "      <th>ChronicCond_Depression</th>\n",
              "      <th>ChronicCond_Diabetes</th>\n",
              "      <th>ChronicCond_IschemicHeart</th>\n",
              "      <th>ChronicCond_Osteoporasis</th>\n",
              "      <th>ChronicCond_rheumatoidarthritis</th>\n",
              "      <th>ChronicCond_stroke</th>\n",
              "      <th>IPAnnualReimbursementAmt</th>\n",
              "      <th>IPAnnualDeductibleAmt</th>\n",
              "      <th>OPAnnualReimbursementAmt</th>\n",
              "      <th>OPAnnualDeductibleAmt</th>\n",
              "      <th>Age</th>\n",
              "      <th>WhetherDead</th>\n",
              "    </tr>\n",
              "  </thead>\n",
              "  <tbody>\n",
              "    <tr>\n",
              "      <th>0</th>\n",
              "      <td>0</td>\n",
              "      <td>PRV51001</td>\n",
              "      <td>BENE11727</td>\n",
              "      <td>CLM733300</td>\n",
              "      <td>2009-12-17</td>\n",
              "      <td>2009-12-17</td>\n",
              "      <td>20</td>\n",
              "      <td>PHY383007</td>\n",
              "      <td>NaN</td>\n",
              "      <td>PHY383007</td>\n",
              "      <td>5953</td>\n",
              "      <td>42731</td>\n",
              "      <td>NaN</td>\n",
              "      <td>NaN</td>\n",
              "      <td>NaN</td>\n",
              "      <td>NaN</td>\n",
              "      <td>NaN</td>\n",
              "      <td>NaN</td>\n",
              "      <td>NaN</td>\n",
              "      <td>NaN</td>\n",
              "      <td>NaN</td>\n",
              "      <td>NaN</td>\n",
              "      <td>NaN</td>\n",
              "      <td>NaN</td>\n",
              "      <td>NaN</td>\n",
              "      <td>NaN</td>\n",
              "      <td>0.0</td>\n",
              "      <td>NaN</td>\n",
              "      <td>NaN</td>\n",
              "      <td>NaN</td>\n",
              "      <td>NaN</td>\n",
              "      <td>NaN</td>\n",
              "      <td>1930-01-05</td>\n",
              "      <td>NaN</td>\n",
              "      <td>1</td>\n",
              "      <td>1</td>\n",
              "      <td>12</td>\n",
              "      <td>12</td>\n",
              "      <td>1</td>\n",
              "      <td>1</td>\n",
              "      <td>1</td>\n",
              "      <td>1</td>\n",
              "      <td>0</td>\n",
              "      <td>0</td>\n",
              "      <td>1</td>\n",
              "      <td>1</td>\n",
              "      <td>0</td>\n",
              "      <td>0</td>\n",
              "      <td>0</td>\n",
              "      <td>0</td>\n",
              "      <td>0</td>\n",
              "      <td>300</td>\n",
              "      <td>110</td>\n",
              "      <td>NaN</td>\n",
              "      <td>0.0</td>\n",
              "    </tr>\n",
              "  </tbody>\n",
              "</table>\n",
              "</div>"
            ],
            "text/plain": [
              "   Unnamed: 0  Provider     BeneID  ... OPAnnualDeductibleAmt Age WhetherDead\n",
              "0           0  PRV51001  BENE11727  ...                   110 NaN         0.0\n",
              "\n",
              "[1 rows x 55 columns]"
            ]
          },
          "metadata": {
            "tags": []
          },
          "execution_count": 8
        }
      ]
    },
    {
      "cell_type": "markdown",
      "metadata": {
        "id": "ef-pFqjGL6r0",
        "colab_type": "text"
      },
      "source": [
        "we can use certain methods to identify clues of fraud and abuse. One such simple method is 'Grouping based on Similarity'. In this method, we basically group all the records by the ProcedureCodes, DiagnosisCodes,Provider.\n",
        "\n",
        "For example, if we have a dataset with Procedure codes only for X Procedure, we will then group and check average Amounts involved at each levels of Procedure and analyse the behaviour"
      ]
    },
    {
      "cell_type": "markdown",
      "metadata": {
        "id": "gWYOu-hANTp6",
        "colab_type": "text"
      },
      "source": [
        "Average features based on grouping variables .\n",
        "1. Based on provider"
      ]
    },
    {
      "cell_type": "code",
      "metadata": {
        "id": "2Im9PRmoLsDQ",
        "colab_type": "code",
        "colab": {}
      },
      "source": [
        "Train[\"PerProviderAvg_InscClaimAmtReimbursed\"]=Train.groupby('Provider')['InscClaimAmtReimbursed'].transform('mean')\n",
        "Train[\"PerProviderAvg_DeductibleAmtPaid\"]=Train.groupby('Provider')['DeductibleAmtPaid'].transform('mean')\n",
        "Train[\"PerProviderAvg_IPAnnualReimbursementAmt\"]=Train.groupby('Provider')['IPAnnualReimbursementAmt'].transform('mean')\n",
        "Train[\"PerProviderAvg_IPAnnualDeductibleAmt\"]=Train.groupby('Provider')['IPAnnualDeductibleAmt'].transform('mean')\n",
        "Train[\"PerProviderAvg_OPAnnualReimbursementAmt\"]=Train.groupby('Provider')['OPAnnualReimbursementAmt'].transform('mean')\n",
        "Train[\"PerProviderAvg_OPAnnualDeductibleAmt\"]=Train.groupby('Provider')['OPAnnualDeductibleAmt'].transform('mean')\n",
        "Train[\"PerProviderAvg_Age\"]=Train.groupby('Provider')['Age'].transform('mean')\n",
        "Train[\"PerProviderAvg_NoOfMonths_PartACov\"]=Train.groupby('Provider')['NoOfMonths_PartACov'].transform('mean')\n",
        "Train[\"PerProviderAvg_NoOfMonths_PartBCov\"]=Train.groupby('Provider')['NoOfMonths_PartBCov'].transform('mean')\n",
        "Train[\"PerProviderAvg_AdmitForDays\"]=Train.groupby('Provider')['AdmitForDays'].transform('mean')\n"
      ],
      "execution_count": null,
      "outputs": []
    },
    {
      "cell_type": "code",
      "metadata": {
        "id": "JJ8Ql4zkNy_3",
        "colab_type": "code",
        "colab": {}
      },
      "source": [
        "Test[\"PerProviderAvg_InscClaimAmtReimbursed\"]=Test.groupby('Provider')['InscClaimAmtReimbursed'].transform('mean')\n",
        "Test[\"PerProviderAvg_DeductibleAmtPaid\"]=Test.groupby('Provider')['DeductibleAmtPaid'].transform('mean')\n",
        "Test[\"PerProviderAvg_IPAnnualReimbursementAmt\"]=Test.groupby('Provider')['IPAnnualReimbursementAmt'].transform('mean')\n",
        "Test[\"PerProviderAvg_IPAnnualDeductibleAmt\"]=Test.groupby('Provider')['IPAnnualDeductibleAmt'].transform('mean')\n",
        "Test[\"PerProviderAvg_OPAnnualReimbursementAmt\"]=Test.groupby('Provider')['OPAnnualReimbursementAmt'].transform('mean')\n",
        "Test[\"PerProviderAvg_OPAnnualDeductibleAmt\"]=Test.groupby('Provider')['OPAnnualDeductibleAmt'].transform('mean')\n",
        "Test[\"PerProviderAvg_Age\"]=Test.groupby('Provider')['Age'].transform('mean')\n",
        "Test[\"PerProviderAvg_NoOfMonths_PartACov\"]=Test.groupby('Provider')['NoOfMonths_PartACov'].transform('mean')\n",
        "Test[\"PerProviderAvg_NoOfMonths_PartBCov\"]=Test.groupby('Provider')['NoOfMonths_PartBCov'].transform('mean')\n",
        "Test[\"PerProviderAvg_AdmitForDays\"]=Test.groupby('Provider')['AdmitForDays'].transform('mean')"
      ],
      "execution_count": null,
      "outputs": []
    },
    {
      "cell_type": "code",
      "metadata": {
        "id": "9vxZTkW9Q5hE",
        "colab_type": "code",
        "colab": {
          "base_uri": "https://localhost:8080/",
          "height": 221
        },
        "outputId": "74a0b89d-bbe8-4e65-a4e1-5feadd467be2"
      },
      "source": [
        "print('Train',Train.shape)\n",
        "Train.iloc[:,-10:].head(2)\n",
        "\n",
        "print(\"Test \",Test.shape)\n",
        "Test.iloc[:,-10:].head(4)"
      ],
      "execution_count": null,
      "outputs": [
        {
          "output_type": "stream",
          "text": [
            "Train (558211, 66)\n",
            "Test  (135392, 65)\n"
          ],
          "name": "stdout"
        },
        {
          "output_type": "execute_result",
          "data": {
            "text/html": [
              "<div>\n",
              "<style scoped>\n",
              "    .dataframe tbody tr th:only-of-type {\n",
              "        vertical-align: middle;\n",
              "    }\n",
              "\n",
              "    .dataframe tbody tr th {\n",
              "        vertical-align: top;\n",
              "    }\n",
              "\n",
              "    .dataframe thead th {\n",
              "        text-align: right;\n",
              "    }\n",
              "</style>\n",
              "<table border=\"1\" class=\"dataframe\">\n",
              "  <thead>\n",
              "    <tr style=\"text-align: right;\">\n",
              "      <th></th>\n",
              "      <th>PerProviderAvg_InscClaimAmtReimbursed</th>\n",
              "      <th>PerProviderAvg_DeductibleAmtPaid</th>\n",
              "      <th>PerProviderAvg_IPAnnualReimbursementAmt</th>\n",
              "      <th>PerProviderAvg_IPAnnualDeductibleAmt</th>\n",
              "      <th>PerProviderAvg_OPAnnualReimbursementAmt</th>\n",
              "      <th>PerProviderAvg_OPAnnualDeductibleAmt</th>\n",
              "      <th>PerProviderAvg_Age</th>\n",
              "      <th>PerProviderAvg_NoOfMonths_PartACov</th>\n",
              "      <th>PerProviderAvg_NoOfMonths_PartBCov</th>\n",
              "      <th>PerProviderAvg_AdmitForDays</th>\n",
              "    </tr>\n",
              "  </thead>\n",
              "  <tbody>\n",
              "    <tr>\n",
              "      <th>0</th>\n",
              "      <td>262.390244</td>\n",
              "      <td>1.853659</td>\n",
              "      <td>5180.926829</td>\n",
              "      <td>548.253659</td>\n",
              "      <td>2345.073171</td>\n",
              "      <td>677.95122</td>\n",
              "      <td>61.0</td>\n",
              "      <td>11.82439</td>\n",
              "      <td>12.0</td>\n",
              "      <td>NaN</td>\n",
              "    </tr>\n",
              "    <tr>\n",
              "      <th>1</th>\n",
              "      <td>262.390244</td>\n",
              "      <td>1.853659</td>\n",
              "      <td>5180.926829</td>\n",
              "      <td>548.253659</td>\n",
              "      <td>2345.073171</td>\n",
              "      <td>677.95122</td>\n",
              "      <td>61.0</td>\n",
              "      <td>11.82439</td>\n",
              "      <td>12.0</td>\n",
              "      <td>NaN</td>\n",
              "    </tr>\n",
              "    <tr>\n",
              "      <th>2</th>\n",
              "      <td>262.390244</td>\n",
              "      <td>1.853659</td>\n",
              "      <td>5180.926829</td>\n",
              "      <td>548.253659</td>\n",
              "      <td>2345.073171</td>\n",
              "      <td>677.95122</td>\n",
              "      <td>61.0</td>\n",
              "      <td>11.82439</td>\n",
              "      <td>12.0</td>\n",
              "      <td>NaN</td>\n",
              "    </tr>\n",
              "    <tr>\n",
              "      <th>3</th>\n",
              "      <td>262.390244</td>\n",
              "      <td>1.853659</td>\n",
              "      <td>5180.926829</td>\n",
              "      <td>548.253659</td>\n",
              "      <td>2345.073171</td>\n",
              "      <td>677.95122</td>\n",
              "      <td>61.0</td>\n",
              "      <td>11.82439</td>\n",
              "      <td>12.0</td>\n",
              "      <td>NaN</td>\n",
              "    </tr>\n",
              "  </tbody>\n",
              "</table>\n",
              "</div>"
            ],
            "text/plain": [
              "   PerProviderAvg_InscClaimAmtReimbursed  ...  PerProviderAvg_AdmitForDays\n",
              "0                             262.390244  ...                          NaN\n",
              "1                             262.390244  ...                          NaN\n",
              "2                             262.390244  ...                          NaN\n",
              "3                             262.390244  ...                          NaN\n",
              "\n",
              "[4 rows x 10 columns]"
            ]
          },
          "metadata": {
            "tags": []
          },
          "execution_count": 11
        }
      ]
    },
    {
      "cell_type": "markdown",
      "metadata": {
        "id": "n-W3FZyeR8cY",
        "colab_type": "text"
      },
      "source": [
        "Based on BeneID"
      ]
    },
    {
      "cell_type": "code",
      "metadata": {
        "id": "j5raKXhtQ6B8",
        "colab_type": "code",
        "colab": {}
      },
      "source": [
        "## Grouping based on BeneID explains amounts involved per beneficiary.Reason to derive this feature is that one beneficiary \n",
        "## can go to multiple providers and can be involved in fraud cases\n",
        "Train[\"PerBeneIDAvg_InscClaimAmtReimbursed\"]=Train.groupby('BeneID')['InscClaimAmtReimbursed'].transform('mean')\n",
        "Train[\"PerBeneIDAvg_DeductibleAmtPaid\"]=Train.groupby('BeneID')['DeductibleAmtPaid'].transform('mean')\n",
        "Train[\"PerBeneIDAvg_IPAnnualReimbursementAmt\"]=Train.groupby('BeneID')['IPAnnualReimbursementAmt'].transform('mean')\n",
        "Train[\"PerBeneIDAvg_IPAnnualDeductibleAmt\"]=Train.groupby('BeneID')['IPAnnualDeductibleAmt'].transform('mean')\n",
        "Train[\"PerBeneIDAvg_OPAnnualReimbursementAmt\"]=Train.groupby('BeneID')['OPAnnualReimbursementAmt'].transform('mean')\n",
        "Train[\"PerBeneIDAvg_OPAnnualDeductibleAmt\"]=Train.groupby('BeneID')['OPAnnualDeductibleAmt'].transform('mean')\n",
        "Train[\"PerBeneIDAvg_AdmitForDays\"]=Train.groupby('BeneID')['AdmitForDays'].transform('mean')"
      ],
      "execution_count": null,
      "outputs": []
    },
    {
      "cell_type": "code",
      "metadata": {
        "id": "b3CdD10qSlu0",
        "colab_type": "code",
        "colab": {}
      },
      "source": [
        "Test[\"PerBeneIDAvg_InscClaimAmtReimbursed\"]=Test.groupby('BeneID')['InscClaimAmtReimbursed'].transform('mean')\n",
        "Test[\"PerBeneIDAvg_DeductibleAmtPaid\"]=Test.groupby('BeneID')['DeductibleAmtPaid'].transform('mean')\n",
        "Test[\"PerBeneIDAvg_IPAnnualReimbursementAmt\"]=Test.groupby('BeneID')['IPAnnualReimbursementAmt'].transform('mean')\n",
        "Test[\"PerBeneIDAvg_IPAnnualDeductibleAmt\"]=Test.groupby('BeneID')['IPAnnualDeductibleAmt'].transform('mean')\n",
        "Test[\"PerBeneIDAvg_OPAnnualReimbursementAmt\"]=Test.groupby('BeneID')['OPAnnualReimbursementAmt'].transform('mean')\n",
        "Test[\"PerBeneIDAvg_OPAnnualDeductibleAmt\"]=Test.groupby('BeneID')['OPAnnualDeductibleAmt'].transform('mean')\n",
        "Test[\"PerBeneIDAvg_AdmitForDays\"]=Test.groupby('BeneID')['AdmitForDays'].transform('mean')\n"
      ],
      "execution_count": null,
      "outputs": []
    },
    {
      "cell_type": "markdown",
      "metadata": {
        "id": "OhVBuyC2TBL-",
        "colab_type": "text"
      },
      "source": [
        "3. Based on Physicians"
      ]
    },
    {
      "cell_type": "code",
      "metadata": {
        "id": "kbu3nIHdS9ty",
        "colab_type": "code",
        "colab": {}
      },
      "source": [
        "\n",
        "Train[\"PerOtherPhysicianAvg_InscClaimAmtReimbursed\"]=Train.groupby('OtherPhysician')['InscClaimAmtReimbursed'].transform('mean')\n",
        "Train[\"PerOtherPhysicianAvg_DeductibleAmtPaid\"]=Train.groupby('OtherPhysician')['DeductibleAmtPaid'].transform('mean')\n",
        "Train[\"PerOtherPhysicianAvg_IPAnnualReimbursementAmt\"]=Train.groupby('OtherPhysician')['IPAnnualReimbursementAmt'].transform('mean')\n",
        "Train[\"PerOtherPhysicianAvg_IPAnnualDeductibleAmt\"]=Train.groupby('OtherPhysician')['IPAnnualDeductibleAmt'].transform('mean')\n",
        "Train[\"PerOtherPhysicianAvg_OPAnnualReimbursementAmt\"]=Train.groupby('OtherPhysician')['OPAnnualReimbursementAmt'].transform('mean')\n",
        "Train[\"PerOtherPhysicianAvg_OPAnnualDeductibleAmt\"]=Train.groupby('OtherPhysician')['OPAnnualDeductibleAmt'].transform('mean')\n",
        "Train[\"PerOtherPhysicianAvg_AdmitForDays\"]=Train.groupby('OtherPhysician')['AdmitForDays'].transform('mean')"
      ],
      "execution_count": null,
      "outputs": []
    },
    {
      "cell_type": "code",
      "metadata": {
        "id": "kA55C0AjT3j4",
        "colab_type": "code",
        "colab": {}
      },
      "source": [
        "Train[\"PerOtherPhysicianAvg_InscClaimAmtReimbursed\"]=Train.groupby('OtherPhysician')['InscClaimAmtReimbursed'].transform('mean')\n",
        "Train[\"PerOtherPhysicianAvg_DeductibleAmtPaid\"]=Train.groupby('OtherPhysician')['DeductibleAmtPaid'].transform('mean')\n",
        "Train[\"PerOtherPhysicianAvg_IPAnnualReimbursementAmt\"]=Train.groupby('OtherPhysician')['IPAnnualReimbursementAmt'].transform('mean')\n",
        "Train[\"PerOtherPhysicianAvg_IPAnnualDeductibleAmt\"]=Train.groupby('OtherPhysician')['IPAnnualDeductibleAmt'].transform('mean')\n",
        "Train[\"PerOtherPhysicianAvg_OPAnnualReimbursementAmt\"]=Train.groupby('OtherPhysician')['OPAnnualReimbursementAmt'].transform('mean')\n",
        "Train[\"PerOtherPhysicianAvg_OPAnnualDeductibleAmt\"]=Train.groupby('OtherPhysician')['OPAnnualDeductibleAmt'].transform('mean')\n",
        "Train[\"PerOtherPhysicianAvg_AdmitForDays\"]=Train.groupby('OtherPhysician')['AdmitForDays'].transform('mean')\n",
        "\n",
        "Test[\"PerOtherPhysicianAvg_InscClaimAmtReimbursed\"]=Test.groupby('OtherPhysician')['InscClaimAmtReimbursed'].transform('mean')\n",
        "Test[\"PerOtherPhysicianAvg_DeductibleAmtPaid\"]=Test.groupby('OtherPhysician')['DeductibleAmtPaid'].transform('mean')\n",
        "Test[\"PerOtherPhysicianAvg_IPAnnualReimbursementAmt\"]=Test.groupby('OtherPhysician')['IPAnnualReimbursementAmt'].transform('mean')\n",
        "Test[\"PerOtherPhysicianAvg_IPAnnualDeductibleAmt\"]=Test.groupby('OtherPhysician')['IPAnnualDeductibleAmt'].transform('mean')\n",
        "Test[\"PerOtherPhysicianAvg_OPAnnualReimbursementAmt\"]=Test.groupby('OtherPhysician')['OPAnnualReimbursementAmt'].transform('mean')\n",
        "Test[\"PerOtherPhysicianAvg_OPAnnualDeductibleAmt\"]=Test.groupby('OtherPhysician')['OPAnnualDeductibleAmt'].transform('mean')\n",
        "Test[\"PerOtherPhysicianAvg_AdmitForDays\"]=Test.groupby('OtherPhysician')['AdmitForDays'].transform('mean')"
      ],
      "execution_count": null,
      "outputs": []
    },
    {
      "cell_type": "markdown",
      "metadata": {
        "id": "OCVbi2DS_eTG",
        "colab_type": "text"
      },
      "source": [
        "4. Based on OperatingPhysicians"
      ]
    },
    {
      "cell_type": "code",
      "metadata": {
        "id": "niSra4gkdFtZ",
        "colab_type": "code",
        "colab": {}
      },
      "source": [
        "Train[\"PerOperatingPhysicianAvg_InscClaimAmtReimbursed\"]=Train.groupby('OperatingPhysician')['InscClaimAmtReimbursed'].transform('mean')\n",
        "Train[\"PerOperatingPhysicianAvg_DeductibleAmtPaid\"]=Train.groupby('OperatingPhysician')['DeductibleAmtPaid'].transform('mean')\n",
        "Train[\"PerOperatingPhysicianAvg_IPAnnualReimbursementAmt\"]=Train.groupby('OperatingPhysician')['IPAnnualReimbursementAmt'].transform('mean')\n",
        "Train[\"PerOperatingPhysicianAvg_IPAnnualDeductibleAmt\"]=Train.groupby('OperatingPhysician')['IPAnnualDeductibleAmt'].transform('mean')\n",
        "Train[\"PerOperatingPhysicianAvg_OPAnnualReimbursementAmt\"]=Train.groupby('OperatingPhysician')['OPAnnualReimbursementAmt'].transform('mean')\n",
        "Train[\"PerOperatingPhysicianAvg_OPAnnualDeductibleAmt\"]=Train.groupby('OperatingPhysician')['OPAnnualDeductibleAmt'].transform('mean')\n",
        "Train[\"PerOperatingPhysicianAvg_AdmitForDays\"]=Train.groupby('OperatingPhysician')['AdmitForDays'].transform('mean')\n",
        "\n",
        "Test[\"PerOperatingPhysicianAvg_InscClaimAmtReimbursed\"]=Test.groupby('OperatingPhysician')['InscClaimAmtReimbursed'].transform('mean')\n",
        "Test[\"PerOperatingPhysicianAvg_DeductibleAmtPaid\"]=Test.groupby('OperatingPhysician')['DeductibleAmtPaid'].transform('mean')\n",
        "Test[\"PerOperatingPhysicianAvg_IPAnnualReimbursementAmt\"]=Test.groupby('OperatingPhysician')['IPAnnualReimbursementAmt'].transform('mean')\n",
        "Test[\"PerOperatingPhysicianAvg_IPAnnualDeductibleAmt\"]=Test.groupby('OperatingPhysician')['IPAnnualDeductibleAmt'].transform('mean')\n",
        "Test[\"PerOperatingPhysicianAvg_OPAnnualReimbursementAmt\"]=Test.groupby('OperatingPhysician')['OPAnnualReimbursementAmt'].transform('mean')\n",
        "Test[\"PerOperatingPhysicianAvg_OPAnnualDeductibleAmt\"]=Test.groupby('OperatingPhysician')['OPAnnualDeductibleAmt'].transform('mean')\n",
        "Test[\"PerOperatingPhysicianAvg_AdmitForDays\"]=Test.groupby('OperatingPhysician')['AdmitForDays'].transform('mean')"
      ],
      "execution_count": null,
      "outputs": []
    },
    {
      "cell_type": "markdown",
      "metadata": {
        "id": "4IQStRm9CRC0",
        "colab_type": "text"
      },
      "source": [
        "5. Based of AttendingPhysician"
      ]
    },
    {
      "cell_type": "code",
      "metadata": {
        "id": "LZF6fu9uBgsE",
        "colab_type": "code",
        "colab": {}
      },
      "source": [
        "Train[\"PerAttendingPhysicianAvg_InscClaimAmtReimbursed\"]=Train.groupby('AttendingPhysician')['InscClaimAmtReimbursed'].transform('mean')\n",
        "Train[\"PerAttendingPhysicianAvg_DeductibleAmtPaid\"]=Train.groupby('AttendingPhysician')['DeductibleAmtPaid'].transform('mean')\n",
        "Train[\"PerAttendingPhysicianAvg_IPAnnualReimbursementAmt\"]=Train.groupby('AttendingPhysician')['IPAnnualReimbursementAmt'].transform('mean')\n",
        "Train[\"PerAttendingPhysicianAvg_IPAnnualDeductibleAmt\"]=Train.groupby('AttendingPhysician')['IPAnnualDeductibleAmt'].transform('mean')\n",
        "Train[\"PerAttendingPhysicianAvg_OPAnnualReimbursementAmt\"]=Train.groupby('AttendingPhysician')['OPAnnualReimbursementAmt'].transform('mean')\n",
        "Train[\"PerAttendingPhysicianAvg_OPAnnualDeductibleAmt\"]=Train.groupby('AttendingPhysician')['OPAnnualDeductibleAmt'].transform('mean')\n",
        "Train[\"PerAttendingPhysicianAvg_AdmitForDays\"]=Train.groupby('AttendingPhysician')['AdmitForDays'].transform('mean')\n",
        "\n",
        "\n",
        "Test[\"PerAttendingPhysicianAvg_InscClaimAmtReimbursed\"]=Test.groupby('AttendingPhysician')['InscClaimAmtReimbursed'].transform('mean')\n",
        "Test[\"PerAttendingPhysicianAvg_DeductibleAmtPaid\"]=Test.groupby('AttendingPhysician')['DeductibleAmtPaid'].transform('mean')\n",
        "Test[\"PerAttendingPhysicianAvg_IPAnnualReimbursementAmt\"]=Test.groupby('AttendingPhysician')['IPAnnualReimbursementAmt'].transform('mean')\n",
        "Test[\"PerAttendingPhysicianAvg_IPAnnualDeductibleAmt\"]=Test.groupby('AttendingPhysician')['IPAnnualDeductibleAmt'].transform('mean')\n",
        "Test[\"PerAttendingPhysicianAvg_OPAnnualReimbursementAmt\"]=Test.groupby('AttendingPhysician')['OPAnnualReimbursementAmt'].transform('mean')\n",
        "Test[\"PerAttendingPhysicianAvg_OPAnnualDeductibleAmt\"]=Test.groupby('AttendingPhysician')['OPAnnualDeductibleAmt'].transform('mean')\n",
        "Test[\"PerAttendingPhysicianAvg_AdmitForDays\"]=Test.groupby('AttendingPhysician')['AdmitForDays'].transform('mean')"
      ],
      "execution_count": null,
      "outputs": []
    },
    {
      "cell_type": "markdown",
      "metadata": {
        "id": "hUN0zo79Dsat",
        "colab_type": "text"
      },
      "source": [
        "Diagonsis Group Code"
      ]
    },
    {
      "cell_type": "code",
      "metadata": {
        "id": "YFkQLU3iDrkj",
        "colab_type": "code",
        "colab": {}
      },
      "source": [
        "Train[\"PerDiagnosisGroupCodeAvg_InscClaimAmtReimbursed\"]=Train.groupby('DiagnosisGroupCode')['InscClaimAmtReimbursed'].transform('mean')\n",
        "Train[\"PerDiagnosisGroupCodeAvg_DeductibleAmtPaid\"]=Train.groupby('DiagnosisGroupCode')['DeductibleAmtPaid'].transform('mean')\n",
        "Train[\"PerDiagnosisGroupCodeAvg_IPAnnualDeductibleAmt\"]=Train.groupby('DiagnosisGroupCode')['IPAnnualDeductibleAmt'].transform('mean')\n",
        "Train[\"PerDiagnosisGroupCodeAvg_OPAnnualReimbursementAmt\"]=Train.groupby('DiagnosisGroupCode')['OPAnnualReimbursementAmt'].transform('mean')\n",
        "Train[\"PerDiagnosisGroupCodeAvg_OPAnnualDeductibleAmt\"]=Train.groupby('DiagnosisGroupCode')['OPAnnualDeductibleAmt'].transform('mean')\n",
        "Train[\"PerDiagnosisGroupCodeAvg_AdmitForDays\"]=Train.groupby('DiagnosisGroupCode')['AdmitForDays'].transform('mean')\n",
        "\n",
        "Test[\"PerDiagnosisGroupCodeAvg_InscClaimAmtReimbursed\"]=Test.groupby('DiagnosisGroupCode')['InscClaimAmtReimbursed'].transform('mean')\n",
        "Test[\"PerDiagnosisGroupCodeAvg_DeductibleAmtPaid\"]=Test.groupby('DiagnosisGroupCode')['DeductibleAmtPaid'].transform('mean')\n",
        "Test[\"PerDiagnosisGroupCodeAvg_IPAnnualReimbursementAmt\"]=Test.groupby('DiagnosisGroupCode')['IPAnnualReimbursementAmt'].transform('mean')\n",
        "Test[\"PerDiagnosisGroupCodeAvg_IPAnnualDeductibleAmt\"]=Test.groupby('DiagnosisGroupCode')['IPAnnualDeductibleAmt'].transform('mean')\n",
        "Test[\"PerDiagnosisGroupCodeAvg_OPAnnualReimbursementAmt\"]=Test.groupby('DiagnosisGroupCode')['OPAnnualReimbursementAmt'].transform('mean')\n",
        "Test[\"PerDiagnosisGroupCodeAvg_OPAnnualDeductibleAmt\"]=Test.groupby('DiagnosisGroupCode')['OPAnnualDeductibleAmt'].transform('mean')\n",
        "Test[\"PerDiagnosisGroupCodeAvg_AdmitForDays\"]=Test.groupby('DiagnosisGroupCode')['AdmitForDays'].transform('mean')"
      ],
      "execution_count": null,
      "outputs": []
    },
    {
      "cell_type": "markdown",
      "metadata": {
        "id": "Sac0wlN3IELT",
        "colab_type": "text"
      },
      "source": [
        "grouped by ClmAdmitDiagnosisCode"
      ]
    },
    {
      "cell_type": "code",
      "metadata": {
        "id": "2iFaHcoFC6dQ",
        "colab_type": "code",
        "colab": {}
      },
      "source": [
        "Train[\"PerClmAdmitDiagnosisCodeAvg_InscClaimAmtReimbursed\"]=Train.groupby('ClmAdmitDiagnosisCode')['InscClaimAmtReimbursed'].transform('mean')\n",
        "Train[\"PerClmAdmitDiagnosisCodeAvg_DeductibleAmtPaid\"]=Train.groupby('ClmAdmitDiagnosisCode')['DeductibleAmtPaid'].transform('mean')\n",
        "Train[\"PerClmAdmitDiagnosisCodeAvg_IPAnnualReimbursementAmt\"]=Train.groupby('ClmAdmitDiagnosisCode')['IPAnnualReimbursementAmt'].transform('mean')\n",
        "Train[\"PerClmAdmitDiagnosisCodeAvg_IPAnnualDeductibleAmt\"]=Train.groupby('ClmAdmitDiagnosisCode')['IPAnnualDeductibleAmt'].transform('mean')\n",
        "Train[\"PerClmAdmitDiagnosisCodeAvg_OPAnnualReimbursementAmt\"]=Train.groupby('ClmAdmitDiagnosisCode')['OPAnnualReimbursementAmt'].transform('mean')\n",
        "Train[\"PerClmAdmitDiagnosisCodeAvg_OPAnnualDeductibleAmt\"]=Train.groupby('ClmAdmitDiagnosisCode')['OPAnnualDeductibleAmt'].transform('mean')\n",
        "Train[\"PerClmAdmitDiagnosisCodeAvg_AdmitForDays\"]=Train.groupby('ClmAdmitDiagnosisCode')['AdmitForDays'].transform('mean')\n",
        "\n",
        "Test[\"PerClmAdmitDiagnosisCodeAvg_InscClaimAmtReimbursed\"]=Test.groupby('ClmAdmitDiagnosisCode')['InscClaimAmtReimbursed'].transform('mean')\n",
        "Test[\"PerClmAdmitDiagnosisCodeAvg_DeductibleAmtPaid\"]=Test.groupby('ClmAdmitDiagnosisCode')['DeductibleAmtPaid'].transform('mean')\n",
        "Test[\"PerClmAdmitDiagnosisCodeAvg_IPAnnualReimbursementAmt\"]=Test.groupby('ClmAdmitDiagnosisCode')['IPAnnualReimbursementAmt'].transform('mean')\n",
        "Test[\"PerClmAdmitDiagnosisCodeAvg_IPAnnualDeductibleAmt\"]=Test.groupby('ClmAdmitDiagnosisCode')['IPAnnualDeductibleAmt'].transform('mean')\n",
        "Test[\"PerClmAdmitDiagnosisCodeAvg_OPAnnualReimbursementAmt\"]=Test.groupby('ClmAdmitDiagnosisCode')['OPAnnualReimbursementAmt'].transform('mean')\n",
        "Test[\"PerClmAdmitDiagnosisCodeAvg_OPAnnualDeductibleAmt\"]=Test.groupby('ClmAdmitDiagnosisCode')['OPAnnualDeductibleAmt'].transform('mean')\n",
        "Test[\"PerClmAdmitDiagnosisCodeAvg_AdmitForDays\"]=Test.groupby('ClmAdmitDiagnosisCode')['AdmitForDays'].transform('mean')"
      ],
      "execution_count": null,
      "outputs": []
    },
    {
      "cell_type": "markdown",
      "metadata": {
        "id": "hrIXBWFBJbCi",
        "colab_type": "text"
      },
      "source": [
        "grouped by ClmProcedureCode_1"
      ]
    },
    {
      "cell_type": "code",
      "metadata": {
        "id": "STCNLKWKI0aT",
        "colab_type": "code",
        "colab": {}
      },
      "source": [
        "Train[\"PerClmProcedureCode_1Avg_InscClaimAmtReimbursed\"]=Train.groupby('ClmProcedureCode_1')['InscClaimAmtReimbursed'].transform('mean')\n",
        "Train[\"PerClmProcedureCode_1Avg_DeductibleAmtPaid\"]=Train.groupby('ClmProcedureCode_1')['DeductibleAmtPaid'].transform('mean')\n",
        "Train[\"PerClmProcedureCode_1Avg_IPAnnualReimbursementAmt\"]=Train.groupby('ClmProcedureCode_1')['IPAnnualReimbursementAmt'].transform('mean')\n",
        "Train[\"PerClmProcedureCode_1Avg_IPAnnualDeductibleAmt\"]=Train.groupby('ClmProcedureCode_1')['IPAnnualDeductibleAmt'].transform('mean')\n",
        "Train[\"PerClmProcedureCode_1Avg_OPAnnualReimbursementAmt\"]=Train.groupby('ClmProcedureCode_1')['OPAnnualReimbursementAmt'].transform('mean')\n",
        "Train[\"PerClmProcedureCode_1Avg_OPAnnualDeductibleAmt\"]=Train.groupby('ClmProcedureCode_1')['OPAnnualDeductibleAmt'].transform('mean')\n",
        "Train[\"PerClmProcedureCode_1Avg_AdmitForDays\"]=Train.groupby('ClmProcedureCode_1')['AdmitForDays'].transform('mean')\n",
        "\n",
        "\n",
        "Test[\"PerClmProcedureCode_1Avg_InscClaimAmtReimbursed\"]=Test.groupby('ClmProcedureCode_1')['InscClaimAmtReimbursed'].transform('mean')\n",
        "Test[\"PerClmProcedureCode_1Avg_DeductibleAmtPaid\"]=Test.groupby('ClmProcedureCode_1')['DeductibleAmtPaid'].transform('mean')\n",
        "Test[\"PerClmProcedureCode_1Avg_IPAnnualReimbursementAmt\"]=Test.groupby('ClmProcedureCode_1')['IPAnnualReimbursementAmt'].transform('mean')\n",
        "Test[\"PerClmProcedureCode_1Avg_IPAnnualDeductibleAmt\"]=Test.groupby('ClmProcedureCode_1')['IPAnnualDeductibleAmt'].transform('mean')\n",
        "Test[\"PerClmProcedureCode_1Avg_OPAnnualReimbursementAmt\"]=Test.groupby('ClmProcedureCode_1')['OPAnnualReimbursementAmt'].transform('mean')\n",
        "Test[\"PerClmProcedureCode_1Avg_OPAnnualDeductibleAmt\"]=Test.groupby('ClmProcedureCode_1')['OPAnnualDeductibleAmt'].transform('mean')\n",
        "Test[\"PerClmProcedureCode_1Avg_AdmitForDays\"]=Test.groupby('ClmProcedureCode_1')['AdmitForDays'].transform('mean')"
      ],
      "execution_count": null,
      "outputs": []
    },
    {
      "cell_type": "markdown",
      "metadata": {
        "id": "beHnu04RKWQV",
        "colab_type": "text"
      },
      "source": [
        "grouped by ClmProcedureCode_2"
      ]
    },
    {
      "cell_type": "code",
      "metadata": {
        "id": "VGofjDUJKUJ9",
        "colab_type": "code",
        "colab": {}
      },
      "source": [
        "Train[\"PerClmProcedureCode_2Avg_InscClaimAmtReimbursed\"]=Train.groupby('ClmProcedureCode_2')['InscClaimAmtReimbursed'].transform('mean')\n",
        "Train[\"PerClmProcedureCode_2Avg_DeductibleAmtPaid\"]=Train.groupby('ClmProcedureCode_2')['DeductibleAmtPaid'].transform('mean')\n",
        "Train[\"PerClmProcedureCode_2Avg_IPAnnualReimbursementAmt\"]=Train.groupby('ClmProcedureCode_2')['IPAnnualReimbursementAmt'].transform('mean')\n",
        "Train[\"PerClmProcedureCode_2Avg_IPAnnualDeductibleAmt\"]=Train.groupby('ClmProcedureCode_2')['IPAnnualDeductibleAmt'].transform('mean')\n",
        "Train[\"PerClmProcedureCode_2Avg_OPAnnualReimbursementAmt\"]=Train.groupby('ClmProcedureCode_2')['OPAnnualReimbursementAmt'].transform('mean')\n",
        "Train[\"PerClmProcedureCode_2Avg_OPAnnualDeductibleAmt\"]=Train.groupby('ClmProcedureCode_2')['OPAnnualDeductibleAmt'].transform('mean')\n",
        "Train[\"PerClmProcedureCode_2Avg_AdmitForDays\"]=Train.groupby('ClmProcedureCode_2')['AdmitForDays'].transform('mean')\n",
        "\n",
        "\n",
        "Test[\"PerClmProcedureCode_2Avg_InscClaimAmtReimbursed\"]=Test.groupby('ClmProcedureCode_2')['InscClaimAmtReimbursed'].transform('mean')\n",
        "Test[\"PerClmProcedureCode_2Avg_DeductibleAmtPaid\"]=Test.groupby('ClmProcedureCode_2')['DeductibleAmtPaid'].transform('mean')\n",
        "Test[\"PerClmProcedureCode_2Avg_IPAnnualReimbursementAmt\"]=Test.groupby('ClmProcedureCode_2')['IPAnnualReimbursementAmt'].transform('mean')\n",
        "Test[\"PerClmProcedureCode_2Avg_IPAnnualDeductibleAmt\"]=Test.groupby('ClmProcedureCode_2')['IPAnnualDeductibleAmt'].transform('mean')\n",
        "Test[\"PerClmProcedureCode_2Avg_OPAnnualReimbursementAmt\"]=Test.groupby('ClmProcedureCode_2')['OPAnnualReimbursementAmt'].transform('mean')\n",
        "Test[\"PerClmProcedureCode_2Avg_OPAnnualDeductibleAmt\"]=Test.groupby('ClmProcedureCode_2')['OPAnnualDeductibleAmt'].transform('mean')\n",
        "Test[\"PerClmProcedureCode_2Avg_AdmitForDays\"]=Test.groupby('ClmProcedureCode_2')['AdmitForDays'].transform('mean')"
      ],
      "execution_count": null,
      "outputs": []
    },
    {
      "cell_type": "markdown",
      "metadata": {
        "id": "Trpf-J7CMM8m",
        "colab_type": "text"
      },
      "source": [
        "grouped by ClmProcedureCode_3"
      ]
    },
    {
      "cell_type": "code",
      "metadata": {
        "id": "qbkNBNAcMHAv",
        "colab_type": "code",
        "colab": {}
      },
      "source": [
        "Train[\"PerClmProcedureCode_3Avg_InscClaimAmtReimbursed\"]=Train.groupby('ClmProcedureCode_3')['InscClaimAmtReimbursed'].transform('mean')\n",
        "Train[\"PerClmProcedureCode_3Avg_DeductibleAmtPaid\"]=Train.groupby('ClmProcedureCode_3')['DeductibleAmtPaid'].transform('mean')\n",
        "Train[\"PerClmProcedureCode_3Avg_IPAnnualReimbursementAmt\"]=Train.groupby('ClmProcedureCode_3')['IPAnnualReimbursementAmt'].transform('mean')\n",
        "Train[\"PerClmProcedureCode_3Avg_IPAnnualDeductibleAmt\"]=Train.groupby('ClmProcedureCode_3')['IPAnnualDeductibleAmt'].transform('mean')\n",
        "Train[\"PerClmProcedureCode_3Avg_OPAnnualReimbursementAmt\"]=Train.groupby('ClmProcedureCode_3')['OPAnnualReimbursementAmt'].transform('mean')\n",
        "Train[\"PerClmProcedureCode_3Avg_OPAnnualDeductibleAmt\"]=Train.groupby('ClmProcedureCode_3')['OPAnnualDeductibleAmt'].transform('mean')\n",
        "Train[\"PerClmProcedureCode_3Avg_AdmitForDays\"]=Train.groupby('ClmProcedureCode_3')['AdmitForDays'].transform('mean')\n",
        "\n",
        "\n",
        "Test[\"PerClmProcedureCode_3Avg_InscClaimAmtReimbursed\"]=Test.groupby('ClmProcedureCode_3')['InscClaimAmtReimbursed'].transform('mean')\n",
        "Test[\"PerClmProcedureCode_3Avg_DeductibleAmtPaid\"]=Test.groupby('ClmProcedureCode_3')['DeductibleAmtPaid'].transform('mean')\n",
        "Test[\"PerClmProcedureCode_3Avg_IPAnnualReimbursementAmt\"]=Test.groupby('ClmProcedureCode_3')['IPAnnualReimbursementAmt'].transform('mean')\n",
        "Test[\"PerClmProcedureCode_3Avg_IPAnnualDeductibleAmt\"]=Test.groupby('ClmProcedureCode_3')['IPAnnualDeductibleAmt'].transform('mean')\n",
        "Test[\"PerClmProcedureCode_3Avg_OPAnnualReimbursementAmt\"]=Test.groupby('ClmProcedureCode_3')['OPAnnualReimbursementAmt'].transform('mean')\n",
        "Test[\"PerClmProcedureCode_3Avg_OPAnnualDeductibleAmt\"]=Test.groupby('ClmProcedureCode_3')['OPAnnualDeductibleAmt'].transform('mean')\n",
        "Test[\"PerClmProcedureCode_3Avg_AdmitForDays\"]=Test.groupby('ClmProcedureCode_3')['AdmitForDays'].transform('mean')"
      ],
      "execution_count": null,
      "outputs": []
    },
    {
      "cell_type": "markdown",
      "metadata": {
        "id": "-n_f2qRhNGLo",
        "colab_type": "text"
      },
      "source": [
        "grouped by ClmDiagnosisCode_1"
      ]
    },
    {
      "cell_type": "code",
      "metadata": {
        "id": "EOOMR-7HNAY-",
        "colab_type": "code",
        "colab": {}
      },
      "source": [
        "Train[\"PerClmDiagnosisCode_1Avg_InscClaimAmtReimbursed\"]=Train.groupby('ClmDiagnosisCode_1')['InscClaimAmtReimbursed'].transform('mean')\n",
        "Train[\"PerClmDiagnosisCode_1Avg_DeductibleAmtPaid\"]=Train.groupby('ClmDiagnosisCode_1')['DeductibleAmtPaid'].transform('mean')\n",
        "Train[\"PerClmDiagnosisCode_1Avg_IPAnnualReimbursementAmt\"]=Train.groupby('ClmDiagnosisCode_1')['IPAnnualReimbursementAmt'].transform('mean')\n",
        "Train[\"PerClmDiagnosisCode_1Avg_IPAnnualDeductibleAmt\"]=Train.groupby('ClmDiagnosisCode_1')['IPAnnualDeductibleAmt'].transform('mean')\n",
        "Train[\"PerClmDiagnosisCode_1Avg_OPAnnualReimbursementAmt\"]=Train.groupby('ClmDiagnosisCode_1')['OPAnnualReimbursementAmt'].transform('mean')\n",
        "Train[\"PerClmDiagnosisCode_1Avg_OPAnnualDeductibleAmt\"]=Train.groupby('ClmDiagnosisCode_1')['OPAnnualDeductibleAmt'].transform('mean')\n",
        "Train[\"PerClmDiagnosisCode_1Avg_AdmitForDays\"]=Train.groupby('ClmDiagnosisCode_1')['AdmitForDays'].transform('mean')\n",
        "\n",
        "\n",
        "Test[\"PerClmDiagnosisCode_1Avg_InscClaimAmtReimbursed\"]=Test.groupby('ClmDiagnosisCode_1')['InscClaimAmtReimbursed'].transform('mean')\n",
        "Test[\"PerClmDiagnosisCode_1Avg_DeductibleAmtPaid\"]=Test.groupby('ClmDiagnosisCode_1')['DeductibleAmtPaid'].transform('mean')\n",
        "Test[\"PerClmDiagnosisCode_1Avg_IPAnnualReimbursementAmt\"]=Test.groupby('ClmDiagnosisCode_1')['IPAnnualReimbursementAmt'].transform('mean')\n",
        "Test[\"PerClmDiagnosisCode_1Avg_IPAnnualDeductibleAmt\"]=Test.groupby('ClmDiagnosisCode_1')['IPAnnualDeductibleAmt'].transform('mean')\n",
        "Test[\"PerClmDiagnosisCode_1Avg_OPAnnualReimbursementAmt\"]=Test.groupby('ClmDiagnosisCode_1')['OPAnnualReimbursementAmt'].transform('mean')\n",
        "Test[\"PerClmDiagnosisCode_1Avg_OPAnnualDeductibleAmt\"]=Test.groupby('ClmDiagnosisCode_1')['OPAnnualDeductibleAmt'].transform('mean')\n",
        "Test[\"PerClmDiagnosisCode_1Avg_AdmitForDays\"]=Test.groupby('ClmDiagnosisCode_1')['AdmitForDays'].transform('mean')"
      ],
      "execution_count": null,
      "outputs": []
    },
    {
      "cell_type": "markdown",
      "metadata": {
        "id": "SmpEzwG3PMT1",
        "colab_type": "text"
      },
      "source": [
        "grouped by ClmDiagnosisCode_2"
      ]
    },
    {
      "cell_type": "code",
      "metadata": {
        "id": "NwFw8GPfPHgo",
        "colab_type": "code",
        "colab": {}
      },
      "source": [
        "Train[\"PerClmDiagnosisCode_2Avg_InscClaimAmtReimbursed\"]=Train.groupby('ClmDiagnosisCode_2')['InscClaimAmtReimbursed'].transform('mean')\n",
        "Train[\"PerClmDiagnosisCode_2Avg_DeductibleAmtPaid\"]=Train.groupby('ClmDiagnosisCode_2')['DeductibleAmtPaid'].transform('mean')\n",
        "Train[\"PerClmDiagnosisCode_2Avg_IPAnnualReimbursementAmt\"]=Train.groupby('ClmDiagnosisCode_2')['IPAnnualReimbursementAmt'].transform('mean')\n",
        "Train[\"PerClmDiagnosisCode_2Avg_IPAnnualDeductibleAmt\"]=Train.groupby('ClmDiagnosisCode_2')['IPAnnualDeductibleAmt'].transform('mean')\n",
        "Train[\"PerClmDiagnosisCode_2Avg_OPAnnualReimbursementAmt\"]=Train.groupby('ClmDiagnosisCode_2')['OPAnnualReimbursementAmt'].transform('mean')\n",
        "Train[\"PerClmDiagnosisCode_2Avg_OPAnnualDeductibleAmt\"]=Train.groupby('ClmDiagnosisCode_2')['OPAnnualDeductibleAmt'].transform('mean')\n",
        "Train[\"PerClmDiagnosisCode_2Avg_AdmitForDays\"]=Train.groupby('ClmDiagnosisCode_2')['AdmitForDays'].transform('mean')\n",
        "\n",
        "\n",
        "Test[\"PerClmDiagnosisCode_2Avg_InscClaimAmtReimbursed\"]=Test.groupby('ClmDiagnosisCode_2')['InscClaimAmtReimbursed'].transform('mean')\n",
        "Test[\"PerClmDiagnosisCode_2Avg_DeductibleAmtPaid\"]=Test.groupby('ClmDiagnosisCode_2')['DeductibleAmtPaid'].transform('mean')\n",
        "Test[\"PerClmDiagnosisCode_2Avg_IPAnnualReimbursementAmt\"]=Test.groupby('ClmDiagnosisCode_2')['IPAnnualReimbursementAmt'].transform('mean')\n",
        "Test[\"PerClmDiagnosisCode_2Avg_IPAnnualDeductibleAmt\"]=Test.groupby('ClmDiagnosisCode_2')['IPAnnualDeductibleAmt'].transform('mean')\n",
        "Test[\"PerClmDiagnosisCode_2Avg_OPAnnualReimbursementAmt\"]=Test.groupby('ClmDiagnosisCode_2')['OPAnnualReimbursementAmt'].transform('mean')\n",
        "Test[\"PerClmDiagnosisCode_2Avg_OPAnnualDeductibleAmt\"]=Test.groupby('ClmDiagnosisCode_2')['OPAnnualDeductibleAmt'].transform('mean')\n",
        "Test[\"PerClmDiagnosisCode_2Avg_AdmitForDays\"]=Test.groupby('ClmDiagnosisCode_2')['AdmitForDays'].transform('mean')"
      ],
      "execution_count": null,
      "outputs": []
    },
    {
      "cell_type": "markdown",
      "metadata": {
        "id": "vm07IGkEP5dU",
        "colab_type": "text"
      },
      "source": [
        "grouped by ClmDiagnosisCode_3"
      ]
    },
    {
      "cell_type": "code",
      "metadata": {
        "id": "CSGRhDu3P0uv",
        "colab_type": "code",
        "colab": {}
      },
      "source": [
        "Train[\"PerClmDiagnosisCode_3Avg_InscClaimAmtReimbursed\"]=Train.groupby('ClmDiagnosisCode_3')['InscClaimAmtReimbursed'].transform('mean')\n",
        "Train[\"PerClmDiagnosisCode_3Avg_DeductibleAmtPaid\"]=Train.groupby('ClmDiagnosisCode_3')['DeductibleAmtPaid'].transform('mean')\n",
        "Train[\"PerClmDiagnosisCode_3Avg_IPAnnualReimbursementAmt\"]=Train.groupby('ClmDiagnosisCode_3')['IPAnnualReimbursementAmt'].transform('mean')\n",
        "Train[\"PerClmDiagnosisCode_3Avg_IPAnnualDeductibleAmt\"]=Train.groupby('ClmDiagnosisCode_3')['IPAnnualDeductibleAmt'].transform('mean')\n",
        "Train[\"PerClmDiagnosisCode_3Avg_OPAnnualReimbursementAmt\"]=Train.groupby('ClmDiagnosisCode_3')['OPAnnualReimbursementAmt'].transform('mean')\n",
        "Train[\"PerClmDiagnosisCode_3Avg_OPAnnualDeductibleAmt\"]=Train.groupby('ClmDiagnosisCode_3')['OPAnnualDeductibleAmt'].transform('mean')\n",
        "Train[\"PerClmDiagnosisCode_3Avg_AdmitForDays\"]=Train.groupby('ClmDiagnosisCode_3')['AdmitForDays'].transform('mean')\n",
        "\n",
        "\n",
        "Test[\"PerClmDiagnosisCode_3Avg_InscClaimAmtReimbursed\"]=Test.groupby('ClmDiagnosisCode_3')['InscClaimAmtReimbursed'].transform('mean')\n",
        "Test[\"PerClmDiagnosisCode_3Avg_DeductibleAmtPaid\"]=Test.groupby('ClmDiagnosisCode_3')['DeductibleAmtPaid'].transform('mean')\n",
        "Test[\"PerClmDiagnosisCode_3Avg_IPAnnualReimbursementAmt\"]=Test.groupby('ClmDiagnosisCode_3')['IPAnnualReimbursementAmt'].transform('mean')\n",
        "Test[\"PerClmDiagnosisCode_3Avg_IPAnnualDeductibleAmt\"]=Test.groupby('ClmDiagnosisCode_3')['IPAnnualDeductibleAmt'].transform('mean')\n",
        "Test[\"PerClmDiagnosisCode_3Avg_OPAnnualReimbursementAmt\"]=Test.groupby('ClmDiagnosisCode_3')['OPAnnualReimbursementAmt'].transform('mean')\n",
        "Test[\"PerClmDiagnosisCode_3Avg_OPAnnualDeductibleAmt\"]=Test.groupby('ClmDiagnosisCode_3')['OPAnnualDeductibleAmt'].transform('mean')\n",
        "Test[\"PerClmDiagnosisCode_3Avg_AdmitForDays\"]=Test.groupby('ClmDiagnosisCode_3')['AdmitForDays'].transform('mean')"
      ],
      "execution_count": null,
      "outputs": []
    },
    {
      "cell_type": "markdown",
      "metadata": {
        "id": "mnJpIxxiSjrv",
        "colab_type": "text"
      },
      "source": [
        "grouped by ClmDiagnosisCode_4"
      ]
    },
    {
      "cell_type": "code",
      "metadata": {
        "id": "2QEY7t4sSWXh",
        "colab_type": "code",
        "colab": {}
      },
      "source": [
        "Train[\"PerClmDiagnosisCode_4Avg_InscClaimAmtReimbursed\"]=Train.groupby('ClmDiagnosisCode_4')['InscClaimAmtReimbursed'].transform('mean')\n",
        "Train[\"PerClmDiagnosisCode_4Avg_DeductibleAmtPaid\"]=Train.groupby('ClmDiagnosisCode_4')['DeductibleAmtPaid'].transform('mean')\n",
        "Train[\"PerClmDiagnosisCode_4Avg_IPAnnualReimbursementAmt\"]=Train.groupby('ClmDiagnosisCode_4')['IPAnnualReimbursementAmt'].transform('mean')\n",
        "Train[\"PerClmDiagnosisCode_4Avg_IPAnnualDeductibleAmt\"]=Train.groupby('ClmDiagnosisCode_4')['IPAnnualDeductibleAmt'].transform('mean')\n",
        "Train[\"PerClmDiagnosisCode_4Avg_OPAnnualReimbursementAmt\"]=Train.groupby('ClmDiagnosisCode_4')['OPAnnualReimbursementAmt'].transform('mean')\n",
        "Train[\"PerClmDiagnosisCode_4Avg_OPAnnualDeductibleAmt\"]=Train.groupby('ClmDiagnosisCode_4')['OPAnnualDeductibleAmt'].transform('mean')\n",
        "Train[\"PerClmDiagnosisCode_4Avg_AdmitForDays\"]=Train.groupby('ClmDiagnosisCode_4')['AdmitForDays'].transform('mean')\n",
        "\n",
        "\n",
        "Test[\"PerClmDiagnosisCode_4Avg_InscClaimAmtReimbursed\"]=Test.groupby('ClmDiagnosisCode_4')['InscClaimAmtReimbursed'].transform('mean')\n",
        "Test[\"PerClmDiagnosisCode_4Avg_DeductibleAmtPaid\"]=Test.groupby('ClmDiagnosisCode_4')['DeductibleAmtPaid'].transform('mean')\n",
        "Test[\"PerClmDiagnosisCode_4Avg_IPAnnualReimbursementAmt\"]=Test.groupby('ClmDiagnosisCode_4')['IPAnnualReimbursementAmt'].transform('mean')\n",
        "Test[\"PerClmDiagnosisCode_4Avg_IPAnnualDeductibleAmt\"]=Test.groupby('ClmDiagnosisCode_4')['IPAnnualDeductibleAmt'].transform('mean')\n",
        "Test[\"PerClmDiagnosisCode_4Avg_OPAnnualReimbursementAmt\"]=Test.groupby('ClmDiagnosisCode_4')['OPAnnualReimbursementAmt'].transform('mean')\n",
        "Test[\"PerClmDiagnosisCode_4Avg_OPAnnualDeductibleAmt\"]=Test.groupby('ClmDiagnosisCode_4')['OPAnnualDeductibleAmt'].transform('mean')\n",
        "Test[\"PerClmDiagnosisCode_4Avg_AdmitForDays\"]=Test.groupby('ClmDiagnosisCode_4')['AdmitForDays'].transform('mean')"
      ],
      "execution_count": null,
      "outputs": []
    },
    {
      "cell_type": "markdown",
      "metadata": {
        "id": "OuFXoO48TofB",
        "colab_type": "text"
      },
      "source": [
        "Claims are filed by Provider,so fraud can be organized crime.So we will check ClmCounts filed by Providers and when pairs like Provider +BeneID, Provider+Attending Physician, Provider+ClmAdmitDiagnosisCode, Provider+ClmProcedureCode_1,Provider+ClmDiagnosisCode_1 are together.\n",
        "\n",
        "Average Feature based on grouping based on combinations of different variables."
      ]
    },
    {
      "cell_type": "code",
      "metadata": {
        "id": "gsXInlaaTh61",
        "colab_type": "code",
        "colab": {}
      },
      "source": [
        "Train[\"ClmCount_Provider\"]=Train.groupby(['Provider'])['ClaimID'].transform('count')\n",
        "Train[\"ClmCount_Provider_BeneID\"]=Train.groupby(['Provider','BeneID'])['ClaimID'].transform('count')\n",
        "Train[\"ClmCount_Provider_AttendingPhysician\"]=Train.groupby(['Provider','AttendingPhysician'])['ClaimID'].transform('count')\n",
        "Train[\"ClmCount_Provider_OtherPhysician\"]=Train.groupby(['Provider','OtherPhysician'])['ClaimID'].transform('count')\n",
        "Train[\"ClmCount_Provider_OperatingPhysician\"]=Train.groupby(['Provider','OperatingPhysician'])['ClaimID'].transform('count')\n",
        "Train[\"ClmCount_Provider_ClmAdmitDiagnosisCode\"]=Train.groupby(['Provider','ClmAdmitDiagnosisCode'])['ClaimID'].transform('count')\n",
        "Train[\"ClmCount_Provider_ClmProcedureCode_1\"]=Train.groupby(['Provider','ClmProcedureCode_1'])['ClaimID'].transform('count')\n",
        "Train[\"ClmCount_Provider_ClmProcedureCode_2\"]=Train.groupby(['Provider','ClmProcedureCode_2'])['ClaimID'].transform('count')\n",
        "Train[\"ClmCount_Provider_ClmProcedureCode_3\"]=Train.groupby(['Provider','ClmProcedureCode_3'])['ClaimID'].transform('count')\n",
        "Train[\"ClmCount_Provider_ClmProcedureCode_4\"]=Train.groupby(['Provider','ClmProcedureCode_4'])['ClaimID'].transform('count')\n",
        "Train[\"ClmCount_Provider_ClmProcedureCode_5\"]=Train.groupby(['Provider','ClmProcedureCode_5'])['ClaimID'].transform('count')\n",
        "Train[\"ClmCount_Provider_ClmDiagnosisCode_1\"]=Train.groupby(['Provider','ClmDiagnosisCode_1'])['ClaimID'].transform('count')\n",
        "Train[\"ClmCount_Provider_ClmDiagnosisCode_2\"]=Train.groupby(['Provider','ClmDiagnosisCode_2'])['ClaimID'].transform('count')\n",
        "Train[\"ClmCount_Provider_ClmDiagnosisCode_3\"]=Train.groupby(['Provider','ClmDiagnosisCode_3'])['ClaimID'].transform('count')\n",
        "Train[\"ClmCount_Provider_ClmDiagnosisCode_4\"]=Train.groupby(['Provider','ClmDiagnosisCode_4'])['ClaimID'].transform('count')\n",
        "Train[\"ClmCount_Provider_ClmDiagnosisCode_5\"]=Train.groupby(['Provider','ClmDiagnosisCode_5'])['ClaimID'].transform('count')\n",
        "Train[\"ClmCount_Provider_ClmDiagnosisCode_6\"]=Train.groupby(['Provider','ClmDiagnosisCode_6'])['ClaimID'].transform('count')\n",
        "Train[\"ClmCount_Provider_ClmDiagnosisCode_7\"]=Train.groupby(['Provider','ClmDiagnosisCode_7'])['ClaimID'].transform('count')\n",
        "Train[\"ClmCount_Provider_ClmDiagnosisCode_8\"]=Train.groupby(['Provider','ClmDiagnosisCode_8'])['ClaimID'].transform('count')\n",
        "Train[\"ClmCount_Provider_ClmDiagnosisCode_9\"]=Train.groupby(['Provider','ClmDiagnosisCode_9'])['ClaimID'].transform('count')\n",
        "Train[\"ClmCount_Provider_DiagnosisGroupCode\"]=Train.groupby(['Provider','DiagnosisGroupCode'])['ClaimID'].transform('count')\n",
        "\n",
        "Train[\"ClmCount_Provider_BeneID_AttendingPhysician\"]=Train.groupby(['Provider','BeneID','AttendingPhysician'])['ClaimID'].transform('count')\n",
        "Train[\"ClmCount_Provider_BeneID_OtherPhysician\"]=Train.groupby(['Provider','BeneID','OtherPhysician'])['ClaimID'].transform('count')\n",
        "Train[\"ClmCount_Provider_BeneID_AttendingPhysician_ClmProcedureCode_1\"]=Train.groupby(['Provider','BeneID','AttendingPhysician','ClmProcedureCode_1'])['ClaimID'].transform('count')\n",
        "Train[\"ClmCount_Provider_BeneID_AttendingPhysician_ClmDiagnosisCode_1\"]=Train.groupby(['Provider','BeneID','AttendingPhysician','ClmDiagnosisCode_1'])['ClaimID'].transform('count')\n",
        "Train[\"ClmCount_Provider_BeneID_OperatingPhysician\"]=Train.groupby(['Provider','BeneID','OperatingPhysician'])['ClaimID'].transform('count')\n",
        "Train[\"ClmCount_Provider_BeneID_ClmProcedureCode_1\"]=Train.groupby(['Provider','BeneID','ClmProcedureCode_1'])['ClaimID'].transform('count')\n",
        "Train[\"ClmCount_Provider_BeneID_ClmDiagnosisCode_1\"]=Train.groupby(['Provider','BeneID','ClmDiagnosisCode_1'])['ClaimID'].transform('count')\n",
        "Train[\"ClmCount_Provider_BeneID_ClmDiagnosisCode_1_ClmProcedureCode_1\"]=Train.groupby(['Provider','BeneID','ClmDiagnosisCode_1','ClmProcedureCode_1'])['ClaimID'].transform('count')\n",
        "\n",
        "\n",
        "Test[\"ClmCount_Provider\"]=Test.groupby(['Provider'])['ClaimID'].transform('count')\n",
        "Test[\"ClmCount_Provider_BeneID\"]=Test.groupby(['Provider','BeneID'])['ClaimID'].transform('count')\n",
        "Test[\"ClmCount_Provider_AttendingPhysician\"]=Test.groupby(['Provider','AttendingPhysician'])['ClaimID'].transform('count')\n",
        "Test[\"ClmCount_Provider_OtherPhysician\"]=Test.groupby(['Provider','OtherPhysician'])['ClaimID'].transform('count')\n",
        "Test[\"ClmCount_Provider_OperatingPhysician\"]=Test.groupby(['Provider','OperatingPhysician'])['ClaimID'].transform('count')\n",
        "Test[\"ClmCount_Provider_ClmAdmitDiagnosisCode\"]=Test.groupby(['Provider','ClmAdmitDiagnosisCode'])['ClaimID'].transform('count')\n",
        "Test[\"ClmCount_Provider_ClmProcedureCode_1\"]=Test.groupby(['Provider','ClmProcedureCode_1'])['ClaimID'].transform('count')\n",
        "Test[\"ClmCount_Provider_ClmProcedureCode_2\"]=Test.groupby(['Provider','ClmProcedureCode_2'])['ClaimID'].transform('count')\n",
        "Test[\"ClmCount_Provider_ClmProcedureCode_3\"]=Test.groupby(['Provider','ClmProcedureCode_3'])['ClaimID'].transform('count')\n",
        "Test[\"ClmCount_Provider_ClmProcedureCode_4\"]=Test.groupby(['Provider','ClmProcedureCode_4'])['ClaimID'].transform('count')\n",
        "Test[\"ClmCount_Provider_ClmProcedureCode_5\"]=Test.groupby(['Provider','ClmProcedureCode_5'])['ClaimID'].transform('count')\n",
        "Test[\"ClmCount_Provider_ClmDiagnosisCode_1\"]=Test.groupby(['Provider','ClmDiagnosisCode_1'])['ClaimID'].transform('count')\n",
        "Test[\"ClmCount_Provider_ClmDiagnosisCode_2\"]=Test.groupby(['Provider','ClmDiagnosisCode_2'])['ClaimID'].transform('count')\n",
        "Test[\"ClmCount_Provider_ClmDiagnosisCode_3\"]=Test.groupby(['Provider','ClmDiagnosisCode_3'])['ClaimID'].transform('count')\n",
        "Test[\"ClmCount_Provider_ClmDiagnosisCode_4\"]=Test.groupby(['Provider','ClmDiagnosisCode_4'])['ClaimID'].transform('count')\n",
        "Test[\"ClmCount_Provider_ClmDiagnosisCode_5\"]=Test.groupby(['Provider','ClmDiagnosisCode_5'])['ClaimID'].transform('count')\n",
        "Test[\"ClmCount_Provider_ClmDiagnosisCode_6\"]=Test.groupby(['Provider','ClmDiagnosisCode_6'])['ClaimID'].transform('count')\n",
        "Test[\"ClmCount_Provider_ClmDiagnosisCode_7\"]=Test.groupby(['Provider','ClmDiagnosisCode_7'])['ClaimID'].transform('count')\n",
        "Test[\"ClmCount_Provider_ClmDiagnosisCode_8\"]=Test.groupby(['Provider','ClmDiagnosisCode_8'])['ClaimID'].transform('count')\n",
        "Test[\"ClmCount_Provider_ClmDiagnosisCode_9\"]=Test.groupby(['Provider','ClmDiagnosisCode_9'])['ClaimID'].transform('count')\n",
        "Test[\"ClmCount_Provider_DiagnosisGroupCode\"]=Test.groupby(['Provider','DiagnosisGroupCode'])['ClaimID'].transform('count')\n",
        "\n",
        "Test[\"ClmCount_Provider_BeneID_AttendingPhysician\"]=Test.groupby(['Provider','BeneID','AttendingPhysician'])['ClaimID'].transform('count')\n",
        "Test[\"ClmCount_Provider_BeneID_OtherPhysician\"]=Test.groupby(['Provider','BeneID','OtherPhysician'])['ClaimID'].transform('count')\n",
        "Test[\"ClmCount_Provider_BeneID_AttendingPhysician_ClmProcedureCode_1\"]=Test.groupby(['Provider','BeneID','AttendingPhysician','ClmProcedureCode_1'])['ClaimID'].transform('count')\n",
        "Test[\"ClmCount_Provider_BeneID_AttendingPhysician_ClmDiagnosisCode_1\"]=Test.groupby(['Provider','BeneID','AttendingPhysician','ClmDiagnosisCode_1'])['ClaimID'].transform('count')\n",
        "Test[\"ClmCount_Provider_BeneID_OperatingPhysician\"]=Test.groupby(['Provider','BeneID','OperatingPhysician'])['ClaimID'].transform('count')\n",
        "Test[\"ClmCount_Provider_BeneID_ClmProcedureCode_1\"]=Test.groupby(['Provider','BeneID','ClmProcedureCode_1'])['ClaimID'].transform('count')\n",
        "Test[\"ClmCount_Provider_BeneID_ClmDiagnosisCode_1\"]=Test.groupby(['Provider','BeneID','ClmDiagnosisCode_1'])['ClaimID'].transform('count')\n",
        "Test[\"ClmCount_Provider_BeneID_ClmDiagnosisCode_1_ClmProcedureCode_1\"]=Test.groupby(['Provider','BeneID','ClmDiagnosisCode_1','ClmProcedureCode_1'])['ClaimID'].transform('count')"
      ],
      "execution_count": null,
      "outputs": []
    },
    {
      "cell_type": "code",
      "metadata": {
        "id": "k8-vuQyIXXQU",
        "colab_type": "code",
        "colab": {
          "base_uri": "https://localhost:8080/",
          "height": 50
        },
        "outputId": "f7eb5d4c-d2d5-4cd6-a807-b6e47e703f2e"
      },
      "source": [
        "print('Train_ProviderWithPatientDetailsdata shape-',Train.shape)\n",
        "print('Test_ProviderWithPatientDetailsdata shape-',Test.shape)"
      ],
      "execution_count": null,
      "outputs": [
        {
          "output_type": "stream",
          "text": [
            "Train_ProviderWithPatientDetailsdata shape- (558211, 185)\n",
            "Test_ProviderWithPatientDetailsdata shape- (135392, 185)\n"
          ],
          "name": "stdout"
        }
      ]
    },
    {
      "cell_type": "code",
      "metadata": {
        "id": "6tEIwpjHXhaJ",
        "colab_type": "code",
        "colab": {
          "base_uri": "https://localhost:8080/",
          "height": 200
        },
        "outputId": "ec96268a-c8ae-4bea-87e4-b2bbd64326b8"
      },
      "source": [
        "## Lets Check unique values of ICD Diagnosis Codes\n",
        "\n",
        "diagnosiscode_2chars=Train['ClmDiagnosisCode_1'].astype(str).str[0:2]\n",
        "\n",
        "diagnosiscode_2chars.unique()"
      ],
      "execution_count": null,
      "outputs": [
        {
          "output_type": "execute_result",
          "data": {
            "text/plain": [
              "array(['59', '78', 'V4', '29', '03', '51', 'na', '71', 'V1', '27', '42',\n",
              "       'V7', '24', '41', '56', '79', '04', '35', '85', 'V5', '72', '44',\n",
              "       '45', '18', '60', '50', '57', '40', '16', '25', '68', '15', '82',\n",
              "       '28', '61', '47', '99', '20', '70', '33', '31', '49', '88', '48',\n",
              "       '53', '43', '91', '55', '00', '58', '73', '46', '19', '17', 'V0',\n",
              "       '34', 'V6', '62', 'V8', '11', '36', '83', 'E8', '02', '32', '52',\n",
              "       '38', '23', '84', '37', 'V2', '87', '30', '90', '21', '12', '92',\n",
              "       '39', '63', '69', '64', '81', '89', '95', '80', '22', '07', '06',\n",
              "       '93', '94', '54', '26', '05', '13', '74', '14', '98', '08', '97',\n",
              "       '75', '66', 'E9', '09', '96', '10', '77', '86', '65', '67', '01',\n",
              "       '76'], dtype=object)"
            ]
          },
          "metadata": {
            "tags": []
          },
          "execution_count": 29
        }
      ]
    },
    {
      "cell_type": "markdown",
      "metadata": {
        "id": "eXjv5QalYB1L",
        "colab_type": "text"
      },
      "source": [
        "# DATA PREPROCESSING"
      ]
    },
    {
      "cell_type": "code",
      "metadata": {
        "id": "CteDDUimXniX",
        "colab_type": "code",
        "colab": {
          "base_uri": "https://localhost:8080/",
          "height": 33
        },
        "outputId": "4a4d82e0-0778-4c96-9d5e-bc40049e09fc"
      },
      "source": [
        "##### Lets impute numeric columns with 0\n",
        "\n",
        "cols1 = Train.select_dtypes([np.number]).columns\n",
        "cols2 = Train.select_dtypes(exclude = [np.number]).columns\n",
        "\n",
        "Train[cols1] = Train[cols1].fillna(value=0)\n",
        "Test[cols1]=Test[cols1].fillna(value=0)\n",
        "print('Test_ProviderWithPatientDetailsdata shape:',Test.shape)"
      ],
      "execution_count": null,
      "outputs": [
        {
          "output_type": "stream",
          "text": [
            "Test_ProviderWithPatientDetailsdata shape: (135392, 185)\n"
          ],
          "name": "stdout"
        }
      ]
    },
    {
      "cell_type": "markdown",
      "metadata": {
        "id": "mJplI5I_YhLg",
        "colab_type": "text"
      },
      "source": [
        "feature selection"
      ]
    },
    {
      "cell_type": "code",
      "metadata": {
        "id": "9u_9OHNVYggT",
        "colab_type": "code",
        "colab": {}
      },
      "source": [
        "# Lets remove unnecessary columns ,as we grouped based on these columns and derived maximum infromation from them.\n",
        "\n",
        "cols=Train.columns\n",
        "cols[:58]\n",
        "\n",
        "remove_these_columns=['BeneID', 'ClaimID', 'ClaimStartDt','ClaimEndDt','AttendingPhysician',\n",
        "       'OperatingPhysician', 'OtherPhysician', 'ClmDiagnosisCode_1',\n",
        "       'ClmDiagnosisCode_2', 'ClmDiagnosisCode_3', 'ClmDiagnosisCode_4',\n",
        "       'ClmDiagnosisCode_5', 'ClmDiagnosisCode_6', 'ClmDiagnosisCode_7',\n",
        "       'ClmDiagnosisCode_8', 'ClmDiagnosisCode_9', 'ClmDiagnosisCode_10',\n",
        "       'ClmProcedureCode_1', 'ClmProcedureCode_2', 'ClmProcedureCode_3',\n",
        "       'ClmProcedureCode_4', 'ClmProcedureCode_5', 'ClmProcedureCode_6',\n",
        "       'ClmAdmitDiagnosisCode', 'AdmissionDt',\n",
        "       'DischargeDt', 'DiagnosisGroupCode','DOB', 'DOD']\n",
        "\n",
        "Train_category_removed=Train.drop(axis=1,columns=remove_these_columns)\n",
        "Test_category_removed=Test.drop(axis=1,columns=remove_these_columns)\n"
      ],
      "execution_count": null,
      "outputs": []
    },
    {
      "cell_type": "code",
      "metadata": {
        "id": "x3rXlRSNdSnc",
        "colab_type": "code",
        "colab": {}
      },
      "source": [
        "Train_category_removed.Gender=Train_category_removed.Gender.astype('category')\n",
        "Test_category_removed.Gender=Test_category_removed.Gender.astype('category')\n",
        "\n"
      ],
      "execution_count": null,
      "outputs": []
    },
    {
      "cell_type": "code",
      "metadata": {
        "id": "dHSw171Fblyp",
        "colab_type": "code",
        "colab": {}
      },
      "source": [
        "Train_category_removed=pd.get_dummies(Train_category_removed,columns=['Gender'],drop_first=True)\n",
        "Test_category_removed=pd.get_dummies(Test_category_removed,columns=['Gender'],drop_first=True)"
      ],
      "execution_count": null,
      "outputs": []
    },
    {
      "cell_type": "code",
      "metadata": {
        "id": "A3tKXxl_bvDf",
        "colab_type": "code",
        "colab": {
          "base_uri": "https://localhost:8080/",
          "height": 143
        },
        "outputId": "e1cb7bef-f316-4ff9-f46a-bc09782163ae"
      },
      "source": [
        "Train_category_removed.head().T\n",
        "Test_category_removed.iloc[135391:135393]"
      ],
      "execution_count": null,
      "outputs": [
        {
          "output_type": "execute_result",
          "data": {
            "text/html": [
              "<div>\n",
              "<style scoped>\n",
              "    .dataframe tbody tr th:only-of-type {\n",
              "        vertical-align: middle;\n",
              "    }\n",
              "\n",
              "    .dataframe tbody tr th {\n",
              "        vertical-align: top;\n",
              "    }\n",
              "\n",
              "    .dataframe thead th {\n",
              "        text-align: right;\n",
              "    }\n",
              "</style>\n",
              "<table border=\"1\" class=\"dataframe\">\n",
              "  <thead>\n",
              "    <tr style=\"text-align: right;\">\n",
              "      <th></th>\n",
              "      <th>Unnamed: 0</th>\n",
              "      <th>Provider</th>\n",
              "      <th>InscClaimAmtReimbursed</th>\n",
              "      <th>DeductibleAmtPaid</th>\n",
              "      <th>AdmitForDays</th>\n",
              "      <th>RenalDiseaseIndicator</th>\n",
              "      <th>NoOfMonths_PartACov</th>\n",
              "      <th>NoOfMonths_PartBCov</th>\n",
              "      <th>ChronicCond_Alzheimer</th>\n",
              "      <th>ChronicCond_Heartfailure</th>\n",
              "      <th>ChronicCond_KidneyDisease</th>\n",
              "      <th>ChronicCond_Cancer</th>\n",
              "      <th>ChronicCond_ObstrPulmonary</th>\n",
              "      <th>ChronicCond_Depression</th>\n",
              "      <th>ChronicCond_Diabetes</th>\n",
              "      <th>ChronicCond_IschemicHeart</th>\n",
              "      <th>ChronicCond_Osteoporasis</th>\n",
              "      <th>ChronicCond_rheumatoidarthritis</th>\n",
              "      <th>ChronicCond_stroke</th>\n",
              "      <th>IPAnnualReimbursementAmt</th>\n",
              "      <th>IPAnnualDeductibleAmt</th>\n",
              "      <th>OPAnnualReimbursementAmt</th>\n",
              "      <th>OPAnnualDeductibleAmt</th>\n",
              "      <th>Age</th>\n",
              "      <th>WhetherDead</th>\n",
              "      <th>PerProviderAvg_InscClaimAmtReimbursed</th>\n",
              "      <th>PerProviderAvg_DeductibleAmtPaid</th>\n",
              "      <th>PerProviderAvg_IPAnnualReimbursementAmt</th>\n",
              "      <th>PerProviderAvg_IPAnnualDeductibleAmt</th>\n",
              "      <th>PerProviderAvg_OPAnnualReimbursementAmt</th>\n",
              "      <th>PerProviderAvg_OPAnnualDeductibleAmt</th>\n",
              "      <th>PerProviderAvg_Age</th>\n",
              "      <th>PerProviderAvg_NoOfMonths_PartACov</th>\n",
              "      <th>PerProviderAvg_NoOfMonths_PartBCov</th>\n",
              "      <th>PerProviderAvg_AdmitForDays</th>\n",
              "      <th>PerBeneIDAvg_InscClaimAmtReimbursed</th>\n",
              "      <th>PerBeneIDAvg_DeductibleAmtPaid</th>\n",
              "      <th>PerBeneIDAvg_IPAnnualReimbursementAmt</th>\n",
              "      <th>PerBeneIDAvg_IPAnnualDeductibleAmt</th>\n",
              "      <th>PerBeneIDAvg_OPAnnualReimbursementAmt</th>\n",
              "      <th>...</th>\n",
              "      <th>PerClmDiagnosisCode_3Avg_OPAnnualReimbursementAmt</th>\n",
              "      <th>PerClmDiagnosisCode_3Avg_OPAnnualDeductibleAmt</th>\n",
              "      <th>PerClmDiagnosisCode_3Avg_AdmitForDays</th>\n",
              "      <th>PerClmDiagnosisCode_4Avg_InscClaimAmtReimbursed</th>\n",
              "      <th>PerClmDiagnosisCode_4Avg_DeductibleAmtPaid</th>\n",
              "      <th>PerClmDiagnosisCode_4Avg_IPAnnualReimbursementAmt</th>\n",
              "      <th>PerClmDiagnosisCode_4Avg_IPAnnualDeductibleAmt</th>\n",
              "      <th>PerClmDiagnosisCode_4Avg_OPAnnualReimbursementAmt</th>\n",
              "      <th>PerClmDiagnosisCode_4Avg_OPAnnualDeductibleAmt</th>\n",
              "      <th>PerClmDiagnosisCode_4Avg_AdmitForDays</th>\n",
              "      <th>ClmCount_Provider</th>\n",
              "      <th>ClmCount_Provider_BeneID</th>\n",
              "      <th>ClmCount_Provider_AttendingPhysician</th>\n",
              "      <th>ClmCount_Provider_OtherPhysician</th>\n",
              "      <th>ClmCount_Provider_OperatingPhysician</th>\n",
              "      <th>ClmCount_Provider_ClmAdmitDiagnosisCode</th>\n",
              "      <th>ClmCount_Provider_ClmProcedureCode_1</th>\n",
              "      <th>ClmCount_Provider_ClmProcedureCode_2</th>\n",
              "      <th>ClmCount_Provider_ClmProcedureCode_3</th>\n",
              "      <th>ClmCount_Provider_ClmProcedureCode_4</th>\n",
              "      <th>ClmCount_Provider_ClmProcedureCode_5</th>\n",
              "      <th>ClmCount_Provider_ClmDiagnosisCode_1</th>\n",
              "      <th>ClmCount_Provider_ClmDiagnosisCode_2</th>\n",
              "      <th>ClmCount_Provider_ClmDiagnosisCode_3</th>\n",
              "      <th>ClmCount_Provider_ClmDiagnosisCode_4</th>\n",
              "      <th>ClmCount_Provider_ClmDiagnosisCode_5</th>\n",
              "      <th>ClmCount_Provider_ClmDiagnosisCode_6</th>\n",
              "      <th>ClmCount_Provider_ClmDiagnosisCode_7</th>\n",
              "      <th>ClmCount_Provider_ClmDiagnosisCode_8</th>\n",
              "      <th>ClmCount_Provider_ClmDiagnosisCode_9</th>\n",
              "      <th>ClmCount_Provider_DiagnosisGroupCode</th>\n",
              "      <th>ClmCount_Provider_BeneID_AttendingPhysician</th>\n",
              "      <th>ClmCount_Provider_BeneID_OtherPhysician</th>\n",
              "      <th>ClmCount_Provider_BeneID_AttendingPhysician_ClmProcedureCode_1</th>\n",
              "      <th>ClmCount_Provider_BeneID_AttendingPhysician_ClmDiagnosisCode_1</th>\n",
              "      <th>ClmCount_Provider_BeneID_OperatingPhysician</th>\n",
              "      <th>ClmCount_Provider_BeneID_ClmProcedureCode_1</th>\n",
              "      <th>ClmCount_Provider_BeneID_ClmDiagnosisCode_1</th>\n",
              "      <th>ClmCount_Provider_BeneID_ClmDiagnosisCode_1_ClmProcedureCode_1</th>\n",
              "      <th>Gender_2</th>\n",
              "    </tr>\n",
              "  </thead>\n",
              "  <tbody>\n",
              "    <tr>\n",
              "      <th>135391</th>\n",
              "      <td>135391</td>\n",
              "      <td>PRV57750</td>\n",
              "      <td>200</td>\n",
              "      <td>0.0</td>\n",
              "      <td>0.0</td>\n",
              "      <td>0</td>\n",
              "      <td>12</td>\n",
              "      <td>12</td>\n",
              "      <td>0</td>\n",
              "      <td>1</td>\n",
              "      <td>0</td>\n",
              "      <td>0</td>\n",
              "      <td>1</td>\n",
              "      <td>0</td>\n",
              "      <td>0</td>\n",
              "      <td>1</td>\n",
              "      <td>0</td>\n",
              "      <td>0</td>\n",
              "      <td>0</td>\n",
              "      <td>0</td>\n",
              "      <td>0</td>\n",
              "      <td>290</td>\n",
              "      <td>1120</td>\n",
              "      <td>0.0</td>\n",
              "      <td>0.0</td>\n",
              "      <td>257.333333</td>\n",
              "      <td>2.190476</td>\n",
              "      <td>3389.428571</td>\n",
              "      <td>376.342857</td>\n",
              "      <td>2473.714286</td>\n",
              "      <td>612.952381</td>\n",
              "      <td>0.0</td>\n",
              "      <td>11.771429</td>\n",
              "      <td>11.885714</td>\n",
              "      <td>0.0</td>\n",
              "      <td>110.0</td>\n",
              "      <td>0.0</td>\n",
              "      <td>0</td>\n",
              "      <td>0</td>\n",
              "      <td>290</td>\n",
              "      <td>...</td>\n",
              "      <td>2677.727273</td>\n",
              "      <td>580.909091</td>\n",
              "      <td>4.1875</td>\n",
              "      <td>2951.221719</td>\n",
              "      <td>300.835616</td>\n",
              "      <td>8145.022624</td>\n",
              "      <td>996.361991</td>\n",
              "      <td>2048.41629</td>\n",
              "      <td>581.674208</td>\n",
              "      <td>7.214286</td>\n",
              "      <td>105</td>\n",
              "      <td>1</td>\n",
              "      <td>62.0</td>\n",
              "      <td>22.0</td>\n",
              "      <td>15.0</td>\n",
              "      <td>0.0</td>\n",
              "      <td>0.0</td>\n",
              "      <td>0.0</td>\n",
              "      <td>0.0</td>\n",
              "      <td>0.0</td>\n",
              "      <td>0.0</td>\n",
              "      <td>1.0</td>\n",
              "      <td>1.0</td>\n",
              "      <td>1.0</td>\n",
              "      <td>1.0</td>\n",
              "      <td>1.0</td>\n",
              "      <td>1.0</td>\n",
              "      <td>0.0</td>\n",
              "      <td>0.0</td>\n",
              "      <td>0.0</td>\n",
              "      <td>0.0</td>\n",
              "      <td>1.0</td>\n",
              "      <td>1.0</td>\n",
              "      <td>0.0</td>\n",
              "      <td>1.0</td>\n",
              "      <td>1.0</td>\n",
              "      <td>0.0</td>\n",
              "      <td>1.0</td>\n",
              "      <td>0.0</td>\n",
              "      <td>1</td>\n",
              "    </tr>\n",
              "  </tbody>\n",
              "</table>\n",
              "<p>1 rows × 156 columns</p>\n",
              "</div>"
            ],
            "text/plain": [
              "        Unnamed: 0  ... Gender_2\n",
              "135391      135391  ...        1\n",
              "\n",
              "[1 rows x 156 columns]"
            ]
          },
          "metadata": {
            "tags": []
          },
          "execution_count": 34
        }
      ]
    },
    {
      "cell_type": "code",
      "metadata": {
        "id": "b0aLrBxObyaS",
        "colab_type": "code",
        "colab": {
          "base_uri": "https://localhost:8080/",
          "height": 33
        },
        "outputId": "4974ff22-0c07-4c03-ba78-705ade0db442"
      },
      "source": [
        "Train_category_removed.PotentialFraud.replace(['Yes','No'],['1','0'],inplace=True)\n",
        "Train_category_removed.head()\n",
        "Train_category_removed.PotentialFraud=Train_category_removed.PotentialFraud.astype('int64')\n",
        "Train_category_removed.PotentialFraud.dtypes\n",
        "Train_category_removed.PotentialFraud.min()"
      ],
      "execution_count": null,
      "outputs": [
        {
          "output_type": "execute_result",
          "data": {
            "text/plain": [
              "0"
            ]
          },
          "metadata": {
            "tags": []
          },
          "execution_count": 35
        }
      ]
    },
    {
      "cell_type": "code",
      "metadata": {
        "id": "AYNsw_uTb3zJ",
        "colab_type": "code",
        "colab": {
          "base_uri": "https://localhost:8080/",
          "height": 33
        },
        "outputId": "18701968-09bd-4ca4-dc29-84fcf813f1ee"
      },
      "source": [
        "Train_category_removed.PotentialFraud.max()"
      ],
      "execution_count": null,
      "outputs": [
        {
          "output_type": "execute_result",
          "data": {
            "text/plain": [
              "1"
            ]
          },
          "metadata": {
            "tags": []
          },
          "execution_count": 36
        }
      ]
    },
    {
      "cell_type": "code",
      "metadata": {
        "id": "QmvT4xJNb9is",
        "colab_type": "code",
        "colab": {
          "base_uri": "https://localhost:8080/",
          "height": 33
        },
        "outputId": "c83605bb-3a35-4314-c4e2-80bf1a6a7896"
      },
      "source": [
        "print('Test Shape before removing',Test_category_removed.shape)"
      ],
      "execution_count": null,
      "outputs": [
        {
          "output_type": "stream",
          "text": [
            "Test Shape before removing (135392, 156)\n"
          ],
          "name": "stdout"
        }
      ]
    },
    {
      "cell_type": "code",
      "metadata": {
        "id": "XLXBX-YscApi",
        "colab_type": "code",
        "colab": {}
      },
      "source": [
        "Test_category_removed=Test_category_removed.iloc[:135392]"
      ],
      "execution_count": null,
      "outputs": []
    },
    {
      "cell_type": "code",
      "metadata": {
        "id": "9mzRszJ9cF-x",
        "colab_type": "code",
        "colab": {
          "base_uri": "https://localhost:8080/",
          "height": 263
        },
        "outputId": "6d25c6a7-5379-4dd2-8638-5f2f00d19dc8"
      },
      "source": [
        "Test_category_removed.tail()  "
      ],
      "execution_count": null,
      "outputs": [
        {
          "output_type": "execute_result",
          "data": {
            "text/html": [
              "<div>\n",
              "<style scoped>\n",
              "    .dataframe tbody tr th:only-of-type {\n",
              "        vertical-align: middle;\n",
              "    }\n",
              "\n",
              "    .dataframe tbody tr th {\n",
              "        vertical-align: top;\n",
              "    }\n",
              "\n",
              "    .dataframe thead th {\n",
              "        text-align: right;\n",
              "    }\n",
              "</style>\n",
              "<table border=\"1\" class=\"dataframe\">\n",
              "  <thead>\n",
              "    <tr style=\"text-align: right;\">\n",
              "      <th></th>\n",
              "      <th>Unnamed: 0</th>\n",
              "      <th>Provider</th>\n",
              "      <th>InscClaimAmtReimbursed</th>\n",
              "      <th>DeductibleAmtPaid</th>\n",
              "      <th>AdmitForDays</th>\n",
              "      <th>RenalDiseaseIndicator</th>\n",
              "      <th>NoOfMonths_PartACov</th>\n",
              "      <th>NoOfMonths_PartBCov</th>\n",
              "      <th>ChronicCond_Alzheimer</th>\n",
              "      <th>ChronicCond_Heartfailure</th>\n",
              "      <th>ChronicCond_KidneyDisease</th>\n",
              "      <th>ChronicCond_Cancer</th>\n",
              "      <th>ChronicCond_ObstrPulmonary</th>\n",
              "      <th>ChronicCond_Depression</th>\n",
              "      <th>ChronicCond_Diabetes</th>\n",
              "      <th>ChronicCond_IschemicHeart</th>\n",
              "      <th>ChronicCond_Osteoporasis</th>\n",
              "      <th>ChronicCond_rheumatoidarthritis</th>\n",
              "      <th>ChronicCond_stroke</th>\n",
              "      <th>IPAnnualReimbursementAmt</th>\n",
              "      <th>IPAnnualDeductibleAmt</th>\n",
              "      <th>OPAnnualReimbursementAmt</th>\n",
              "      <th>OPAnnualDeductibleAmt</th>\n",
              "      <th>Age</th>\n",
              "      <th>WhetherDead</th>\n",
              "      <th>PerProviderAvg_InscClaimAmtReimbursed</th>\n",
              "      <th>PerProviderAvg_DeductibleAmtPaid</th>\n",
              "      <th>PerProviderAvg_IPAnnualReimbursementAmt</th>\n",
              "      <th>PerProviderAvg_IPAnnualDeductibleAmt</th>\n",
              "      <th>PerProviderAvg_OPAnnualReimbursementAmt</th>\n",
              "      <th>PerProviderAvg_OPAnnualDeductibleAmt</th>\n",
              "      <th>PerProviderAvg_Age</th>\n",
              "      <th>PerProviderAvg_NoOfMonths_PartACov</th>\n",
              "      <th>PerProviderAvg_NoOfMonths_PartBCov</th>\n",
              "      <th>PerProviderAvg_AdmitForDays</th>\n",
              "      <th>PerBeneIDAvg_InscClaimAmtReimbursed</th>\n",
              "      <th>PerBeneIDAvg_DeductibleAmtPaid</th>\n",
              "      <th>PerBeneIDAvg_IPAnnualReimbursementAmt</th>\n",
              "      <th>PerBeneIDAvg_IPAnnualDeductibleAmt</th>\n",
              "      <th>PerBeneIDAvg_OPAnnualReimbursementAmt</th>\n",
              "      <th>...</th>\n",
              "      <th>PerClmDiagnosisCode_3Avg_OPAnnualReimbursementAmt</th>\n",
              "      <th>PerClmDiagnosisCode_3Avg_OPAnnualDeductibleAmt</th>\n",
              "      <th>PerClmDiagnosisCode_3Avg_AdmitForDays</th>\n",
              "      <th>PerClmDiagnosisCode_4Avg_InscClaimAmtReimbursed</th>\n",
              "      <th>PerClmDiagnosisCode_4Avg_DeductibleAmtPaid</th>\n",
              "      <th>PerClmDiagnosisCode_4Avg_IPAnnualReimbursementAmt</th>\n",
              "      <th>PerClmDiagnosisCode_4Avg_IPAnnualDeductibleAmt</th>\n",
              "      <th>PerClmDiagnosisCode_4Avg_OPAnnualReimbursementAmt</th>\n",
              "      <th>PerClmDiagnosisCode_4Avg_OPAnnualDeductibleAmt</th>\n",
              "      <th>PerClmDiagnosisCode_4Avg_AdmitForDays</th>\n",
              "      <th>ClmCount_Provider</th>\n",
              "      <th>ClmCount_Provider_BeneID</th>\n",
              "      <th>ClmCount_Provider_AttendingPhysician</th>\n",
              "      <th>ClmCount_Provider_OtherPhysician</th>\n",
              "      <th>ClmCount_Provider_OperatingPhysician</th>\n",
              "      <th>ClmCount_Provider_ClmAdmitDiagnosisCode</th>\n",
              "      <th>ClmCount_Provider_ClmProcedureCode_1</th>\n",
              "      <th>ClmCount_Provider_ClmProcedureCode_2</th>\n",
              "      <th>ClmCount_Provider_ClmProcedureCode_3</th>\n",
              "      <th>ClmCount_Provider_ClmProcedureCode_4</th>\n",
              "      <th>ClmCount_Provider_ClmProcedureCode_5</th>\n",
              "      <th>ClmCount_Provider_ClmDiagnosisCode_1</th>\n",
              "      <th>ClmCount_Provider_ClmDiagnosisCode_2</th>\n",
              "      <th>ClmCount_Provider_ClmDiagnosisCode_3</th>\n",
              "      <th>ClmCount_Provider_ClmDiagnosisCode_4</th>\n",
              "      <th>ClmCount_Provider_ClmDiagnosisCode_5</th>\n",
              "      <th>ClmCount_Provider_ClmDiagnosisCode_6</th>\n",
              "      <th>ClmCount_Provider_ClmDiagnosisCode_7</th>\n",
              "      <th>ClmCount_Provider_ClmDiagnosisCode_8</th>\n",
              "      <th>ClmCount_Provider_ClmDiagnosisCode_9</th>\n",
              "      <th>ClmCount_Provider_DiagnosisGroupCode</th>\n",
              "      <th>ClmCount_Provider_BeneID_AttendingPhysician</th>\n",
              "      <th>ClmCount_Provider_BeneID_OtherPhysician</th>\n",
              "      <th>ClmCount_Provider_BeneID_AttendingPhysician_ClmProcedureCode_1</th>\n",
              "      <th>ClmCount_Provider_BeneID_AttendingPhysician_ClmDiagnosisCode_1</th>\n",
              "      <th>ClmCount_Provider_BeneID_OperatingPhysician</th>\n",
              "      <th>ClmCount_Provider_BeneID_ClmProcedureCode_1</th>\n",
              "      <th>ClmCount_Provider_BeneID_ClmDiagnosisCode_1</th>\n",
              "      <th>ClmCount_Provider_BeneID_ClmDiagnosisCode_1_ClmProcedureCode_1</th>\n",
              "      <th>Gender_2</th>\n",
              "    </tr>\n",
              "  </thead>\n",
              "  <tbody>\n",
              "    <tr>\n",
              "      <th>135387</th>\n",
              "      <td>135387</td>\n",
              "      <td>PRV57750</td>\n",
              "      <td>1300</td>\n",
              "      <td>0.0</td>\n",
              "      <td>0.0</td>\n",
              "      <td>0</td>\n",
              "      <td>12</td>\n",
              "      <td>12</td>\n",
              "      <td>0</td>\n",
              "      <td>1</td>\n",
              "      <td>0</td>\n",
              "      <td>0</td>\n",
              "      <td>0</td>\n",
              "      <td>1</td>\n",
              "      <td>1</td>\n",
              "      <td>1</td>\n",
              "      <td>0</td>\n",
              "      <td>0</td>\n",
              "      <td>0</td>\n",
              "      <td>0</td>\n",
              "      <td>0</td>\n",
              "      <td>2300</td>\n",
              "      <td>60</td>\n",
              "      <td>0.0</td>\n",
              "      <td>0.0</td>\n",
              "      <td>257.333333</td>\n",
              "      <td>2.190476</td>\n",
              "      <td>3389.428571</td>\n",
              "      <td>376.342857</td>\n",
              "      <td>2473.714286</td>\n",
              "      <td>612.952381</td>\n",
              "      <td>0.0</td>\n",
              "      <td>11.771429</td>\n",
              "      <td>11.885714</td>\n",
              "      <td>0.0</td>\n",
              "      <td>620.0</td>\n",
              "      <td>0.0</td>\n",
              "      <td>0</td>\n",
              "      <td>0</td>\n",
              "      <td>2300</td>\n",
              "      <td>...</td>\n",
              "      <td>0.000000</td>\n",
              "      <td>0.000000</td>\n",
              "      <td>0.0000</td>\n",
              "      <td>0.000000</td>\n",
              "      <td>0.000000</td>\n",
              "      <td>0.000000</td>\n",
              "      <td>0.000000</td>\n",
              "      <td>0.00000</td>\n",
              "      <td>0.000000</td>\n",
              "      <td>0.000000</td>\n",
              "      <td>105</td>\n",
              "      <td>1</td>\n",
              "      <td>62.0</td>\n",
              "      <td>0.0</td>\n",
              "      <td>0.0</td>\n",
              "      <td>2.0</td>\n",
              "      <td>0.0</td>\n",
              "      <td>0.0</td>\n",
              "      <td>0.0</td>\n",
              "      <td>0.0</td>\n",
              "      <td>0.0</td>\n",
              "      <td>1.0</td>\n",
              "      <td>2.0</td>\n",
              "      <td>0.0</td>\n",
              "      <td>0.0</td>\n",
              "      <td>0.0</td>\n",
              "      <td>0.0</td>\n",
              "      <td>0.0</td>\n",
              "      <td>0.0</td>\n",
              "      <td>0.0</td>\n",
              "      <td>0.0</td>\n",
              "      <td>1.0</td>\n",
              "      <td>0.0</td>\n",
              "      <td>0.0</td>\n",
              "      <td>1.0</td>\n",
              "      <td>0.0</td>\n",
              "      <td>0.0</td>\n",
              "      <td>1.0</td>\n",
              "      <td>0.0</td>\n",
              "      <td>1</td>\n",
              "    </tr>\n",
              "    <tr>\n",
              "      <th>135388</th>\n",
              "      <td>135388</td>\n",
              "      <td>PRV57750</td>\n",
              "      <td>10</td>\n",
              "      <td>0.0</td>\n",
              "      <td>0.0</td>\n",
              "      <td>0</td>\n",
              "      <td>12</td>\n",
              "      <td>12</td>\n",
              "      <td>0</td>\n",
              "      <td>0</td>\n",
              "      <td>0</td>\n",
              "      <td>0</td>\n",
              "      <td>0</td>\n",
              "      <td>1</td>\n",
              "      <td>0</td>\n",
              "      <td>1</td>\n",
              "      <td>0</td>\n",
              "      <td>0</td>\n",
              "      <td>0</td>\n",
              "      <td>0</td>\n",
              "      <td>0</td>\n",
              "      <td>2970</td>\n",
              "      <td>760</td>\n",
              "      <td>0.0</td>\n",
              "      <td>0.0</td>\n",
              "      <td>257.333333</td>\n",
              "      <td>2.190476</td>\n",
              "      <td>3389.428571</td>\n",
              "      <td>376.342857</td>\n",
              "      <td>2473.714286</td>\n",
              "      <td>612.952381</td>\n",
              "      <td>0.0</td>\n",
              "      <td>11.771429</td>\n",
              "      <td>11.885714</td>\n",
              "      <td>0.0</td>\n",
              "      <td>505.0</td>\n",
              "      <td>0.0</td>\n",
              "      <td>0</td>\n",
              "      <td>0</td>\n",
              "      <td>2970</td>\n",
              "      <td>...</td>\n",
              "      <td>0.000000</td>\n",
              "      <td>0.000000</td>\n",
              "      <td>0.0000</td>\n",
              "      <td>0.000000</td>\n",
              "      <td>0.000000</td>\n",
              "      <td>0.000000</td>\n",
              "      <td>0.000000</td>\n",
              "      <td>0.00000</td>\n",
              "      <td>0.000000</td>\n",
              "      <td>0.000000</td>\n",
              "      <td>105</td>\n",
              "      <td>1</td>\n",
              "      <td>12.0</td>\n",
              "      <td>0.0</td>\n",
              "      <td>0.0</td>\n",
              "      <td>0.0</td>\n",
              "      <td>0.0</td>\n",
              "      <td>0.0</td>\n",
              "      <td>0.0</td>\n",
              "      <td>0.0</td>\n",
              "      <td>0.0</td>\n",
              "      <td>1.0</td>\n",
              "      <td>0.0</td>\n",
              "      <td>0.0</td>\n",
              "      <td>0.0</td>\n",
              "      <td>0.0</td>\n",
              "      <td>0.0</td>\n",
              "      <td>0.0</td>\n",
              "      <td>0.0</td>\n",
              "      <td>0.0</td>\n",
              "      <td>0.0</td>\n",
              "      <td>1.0</td>\n",
              "      <td>0.0</td>\n",
              "      <td>0.0</td>\n",
              "      <td>1.0</td>\n",
              "      <td>0.0</td>\n",
              "      <td>0.0</td>\n",
              "      <td>1.0</td>\n",
              "      <td>0.0</td>\n",
              "      <td>1</td>\n",
              "    </tr>\n",
              "    <tr>\n",
              "      <th>135389</th>\n",
              "      <td>135389</td>\n",
              "      <td>PRV57750</td>\n",
              "      <td>200</td>\n",
              "      <td>0.0</td>\n",
              "      <td>0.0</td>\n",
              "      <td>0</td>\n",
              "      <td>12</td>\n",
              "      <td>12</td>\n",
              "      <td>0</td>\n",
              "      <td>0</td>\n",
              "      <td>0</td>\n",
              "      <td>0</td>\n",
              "      <td>0</td>\n",
              "      <td>1</td>\n",
              "      <td>0</td>\n",
              "      <td>1</td>\n",
              "      <td>0</td>\n",
              "      <td>0</td>\n",
              "      <td>0</td>\n",
              "      <td>0</td>\n",
              "      <td>0</td>\n",
              "      <td>200</td>\n",
              "      <td>60</td>\n",
              "      <td>0.0</td>\n",
              "      <td>0.0</td>\n",
              "      <td>257.333333</td>\n",
              "      <td>2.190476</td>\n",
              "      <td>3389.428571</td>\n",
              "      <td>376.342857</td>\n",
              "      <td>2473.714286</td>\n",
              "      <td>612.952381</td>\n",
              "      <td>0.0</td>\n",
              "      <td>11.771429</td>\n",
              "      <td>11.885714</td>\n",
              "      <td>0.0</td>\n",
              "      <td>200.0</td>\n",
              "      <td>0.0</td>\n",
              "      <td>0</td>\n",
              "      <td>0</td>\n",
              "      <td>200</td>\n",
              "      <td>...</td>\n",
              "      <td>0.000000</td>\n",
              "      <td>0.000000</td>\n",
              "      <td>0.0000</td>\n",
              "      <td>0.000000</td>\n",
              "      <td>0.000000</td>\n",
              "      <td>0.000000</td>\n",
              "      <td>0.000000</td>\n",
              "      <td>0.00000</td>\n",
              "      <td>0.000000</td>\n",
              "      <td>0.000000</td>\n",
              "      <td>105</td>\n",
              "      <td>1</td>\n",
              "      <td>62.0</td>\n",
              "      <td>0.0</td>\n",
              "      <td>0.0</td>\n",
              "      <td>0.0</td>\n",
              "      <td>0.0</td>\n",
              "      <td>0.0</td>\n",
              "      <td>0.0</td>\n",
              "      <td>0.0</td>\n",
              "      <td>0.0</td>\n",
              "      <td>1.0</td>\n",
              "      <td>0.0</td>\n",
              "      <td>0.0</td>\n",
              "      <td>0.0</td>\n",
              "      <td>0.0</td>\n",
              "      <td>0.0</td>\n",
              "      <td>0.0</td>\n",
              "      <td>0.0</td>\n",
              "      <td>0.0</td>\n",
              "      <td>0.0</td>\n",
              "      <td>1.0</td>\n",
              "      <td>0.0</td>\n",
              "      <td>0.0</td>\n",
              "      <td>1.0</td>\n",
              "      <td>0.0</td>\n",
              "      <td>0.0</td>\n",
              "      <td>1.0</td>\n",
              "      <td>0.0</td>\n",
              "      <td>1</td>\n",
              "    </tr>\n",
              "    <tr>\n",
              "      <th>135390</th>\n",
              "      <td>135390</td>\n",
              "      <td>PRV57750</td>\n",
              "      <td>2300</td>\n",
              "      <td>0.0</td>\n",
              "      <td>0.0</td>\n",
              "      <td>0</td>\n",
              "      <td>12</td>\n",
              "      <td>12</td>\n",
              "      <td>1</td>\n",
              "      <td>0</td>\n",
              "      <td>1</td>\n",
              "      <td>0</td>\n",
              "      <td>1</td>\n",
              "      <td>0</td>\n",
              "      <td>1</td>\n",
              "      <td>1</td>\n",
              "      <td>0</td>\n",
              "      <td>0</td>\n",
              "      <td>0</td>\n",
              "      <td>0</td>\n",
              "      <td>0</td>\n",
              "      <td>5640</td>\n",
              "      <td>830</td>\n",
              "      <td>0.0</td>\n",
              "      <td>0.0</td>\n",
              "      <td>257.333333</td>\n",
              "      <td>2.190476</td>\n",
              "      <td>3389.428571</td>\n",
              "      <td>376.342857</td>\n",
              "      <td>2473.714286</td>\n",
              "      <td>612.952381</td>\n",
              "      <td>0.0</td>\n",
              "      <td>11.771429</td>\n",
              "      <td>11.885714</td>\n",
              "      <td>0.0</td>\n",
              "      <td>1175.0</td>\n",
              "      <td>0.0</td>\n",
              "      <td>0</td>\n",
              "      <td>0</td>\n",
              "      <td>5640</td>\n",
              "      <td>...</td>\n",
              "      <td>0.000000</td>\n",
              "      <td>0.000000</td>\n",
              "      <td>0.0000</td>\n",
              "      <td>0.000000</td>\n",
              "      <td>0.000000</td>\n",
              "      <td>0.000000</td>\n",
              "      <td>0.000000</td>\n",
              "      <td>0.00000</td>\n",
              "      <td>0.000000</td>\n",
              "      <td>0.000000</td>\n",
              "      <td>105</td>\n",
              "      <td>1</td>\n",
              "      <td>62.0</td>\n",
              "      <td>0.0</td>\n",
              "      <td>15.0</td>\n",
              "      <td>1.0</td>\n",
              "      <td>0.0</td>\n",
              "      <td>0.0</td>\n",
              "      <td>0.0</td>\n",
              "      <td>0.0</td>\n",
              "      <td>0.0</td>\n",
              "      <td>2.0</td>\n",
              "      <td>0.0</td>\n",
              "      <td>0.0</td>\n",
              "      <td>0.0</td>\n",
              "      <td>0.0</td>\n",
              "      <td>0.0</td>\n",
              "      <td>0.0</td>\n",
              "      <td>0.0</td>\n",
              "      <td>0.0</td>\n",
              "      <td>0.0</td>\n",
              "      <td>1.0</td>\n",
              "      <td>0.0</td>\n",
              "      <td>0.0</td>\n",
              "      <td>1.0</td>\n",
              "      <td>1.0</td>\n",
              "      <td>0.0</td>\n",
              "      <td>1.0</td>\n",
              "      <td>0.0</td>\n",
              "      <td>1</td>\n",
              "    </tr>\n",
              "    <tr>\n",
              "      <th>135391</th>\n",
              "      <td>135391</td>\n",
              "      <td>PRV57750</td>\n",
              "      <td>200</td>\n",
              "      <td>0.0</td>\n",
              "      <td>0.0</td>\n",
              "      <td>0</td>\n",
              "      <td>12</td>\n",
              "      <td>12</td>\n",
              "      <td>0</td>\n",
              "      <td>1</td>\n",
              "      <td>0</td>\n",
              "      <td>0</td>\n",
              "      <td>1</td>\n",
              "      <td>0</td>\n",
              "      <td>0</td>\n",
              "      <td>1</td>\n",
              "      <td>0</td>\n",
              "      <td>0</td>\n",
              "      <td>0</td>\n",
              "      <td>0</td>\n",
              "      <td>0</td>\n",
              "      <td>290</td>\n",
              "      <td>1120</td>\n",
              "      <td>0.0</td>\n",
              "      <td>0.0</td>\n",
              "      <td>257.333333</td>\n",
              "      <td>2.190476</td>\n",
              "      <td>3389.428571</td>\n",
              "      <td>376.342857</td>\n",
              "      <td>2473.714286</td>\n",
              "      <td>612.952381</td>\n",
              "      <td>0.0</td>\n",
              "      <td>11.771429</td>\n",
              "      <td>11.885714</td>\n",
              "      <td>0.0</td>\n",
              "      <td>110.0</td>\n",
              "      <td>0.0</td>\n",
              "      <td>0</td>\n",
              "      <td>0</td>\n",
              "      <td>290</td>\n",
              "      <td>...</td>\n",
              "      <td>2677.727273</td>\n",
              "      <td>580.909091</td>\n",
              "      <td>4.1875</td>\n",
              "      <td>2951.221719</td>\n",
              "      <td>300.835616</td>\n",
              "      <td>8145.022624</td>\n",
              "      <td>996.361991</td>\n",
              "      <td>2048.41629</td>\n",
              "      <td>581.674208</td>\n",
              "      <td>7.214286</td>\n",
              "      <td>105</td>\n",
              "      <td>1</td>\n",
              "      <td>62.0</td>\n",
              "      <td>22.0</td>\n",
              "      <td>15.0</td>\n",
              "      <td>0.0</td>\n",
              "      <td>0.0</td>\n",
              "      <td>0.0</td>\n",
              "      <td>0.0</td>\n",
              "      <td>0.0</td>\n",
              "      <td>0.0</td>\n",
              "      <td>1.0</td>\n",
              "      <td>1.0</td>\n",
              "      <td>1.0</td>\n",
              "      <td>1.0</td>\n",
              "      <td>1.0</td>\n",
              "      <td>1.0</td>\n",
              "      <td>0.0</td>\n",
              "      <td>0.0</td>\n",
              "      <td>0.0</td>\n",
              "      <td>0.0</td>\n",
              "      <td>1.0</td>\n",
              "      <td>1.0</td>\n",
              "      <td>0.0</td>\n",
              "      <td>1.0</td>\n",
              "      <td>1.0</td>\n",
              "      <td>0.0</td>\n",
              "      <td>1.0</td>\n",
              "      <td>0.0</td>\n",
              "      <td>1</td>\n",
              "    </tr>\n",
              "  </tbody>\n",
              "</table>\n",
              "<p>5 rows × 156 columns</p>\n",
              "</div>"
            ],
            "text/plain": [
              "        Unnamed: 0  ... Gender_2\n",
              "135387      135387  ...        1\n",
              "135388      135388  ...        1\n",
              "135389      135389  ...        1\n",
              "135390      135390  ...        1\n",
              "135391      135391  ...        1\n",
              "\n",
              "[5 rows x 156 columns]"
            ]
          },
          "metadata": {
            "tags": []
          },
          "execution_count": 39
        }
      ]
    },
    {
      "cell_type": "code",
      "metadata": {
        "id": "aGRr1gEXcIrt",
        "colab_type": "code",
        "colab": {}
      },
      "source": [
        "Train_main_data = Train_category_removed.to_csv(\"/content/drive/My Drive/Final_year_Project/Datasets/Train_ProviderWithPatientDetailsMain.csv\")\n",
        "Test_main_data = Test_category_removed.to_csv(\"/content/drive/My Drive/Final_year_Project/Datasets/Test_main_data.csv\")"
      ],
      "execution_count": null,
      "outputs": []
    },
    {
      "cell_type": "code",
      "metadata": {
        "id": "yURuE16MckQQ",
        "colab_type": "code",
        "colab": {}
      },
      "source": [
        ""
      ],
      "execution_count": null,
      "outputs": []
    }
  ]
}