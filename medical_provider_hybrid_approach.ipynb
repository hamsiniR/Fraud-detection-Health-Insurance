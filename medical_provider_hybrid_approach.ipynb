{
  "nbformat": 4,
  "nbformat_minor": 0,
  "metadata": {
    "colab": {
      "name": "medical_provider_hybrid_approach.ipynb",
      "provenance": [],
      "include_colab_link": true
    },
    "kernelspec": {
      "name": "python3",
      "display_name": "Python 3"
    }
  },
  "cells": [
    {
      "cell_type": "markdown",
      "metadata": {
        "id": "view-in-github",
        "colab_type": "text"
      },
      "source": [
        "<a href=\"https://colab.research.google.com/github/hamsiniR/Fraud-detection-Health-Insurance/blob/master/medical_provider_hybrid_approach.ipynb\" target=\"_parent\"><img src=\"https://colab.research.google.com/assets/colab-badge.svg\" alt=\"Open In Colab\"/></a>"
      ]
    },
    {
      "cell_type": "markdown",
      "metadata": {
        "id": "z3aVxL_TVB_W",
        "colab_type": "text"
      },
      "source": [
        "# HYBRID APPROACH"
      ]
    },
    {
      "cell_type": "code",
      "metadata": {
        "id": "I0Ps8qteT8Kd",
        "colab_type": "code",
        "colab": {}
      },
      "source": [
        "import pandas as pd\n",
        "import numpy as np"
      ],
      "execution_count": null,
      "outputs": []
    },
    {
      "cell_type": "code",
      "metadata": {
        "id": "qN3zgOg0UXJy",
        "colab_type": "code",
        "colab": {
          "base_uri": "https://localhost:8080/",
          "height": 34
        },
        "outputId": "f5444c85-c31e-40f0-aecc-1e74346d01ed"
      },
      "source": [
        "from google.colab import drive\n",
        "drive.mount('/content/drive')"
      ],
      "execution_count": null,
      "outputs": [
        {
          "output_type": "stream",
          "text": [
            "Drive already mounted at /content/drive; to attempt to forcibly remount, call drive.mount(\"/content/drive\", force_remount=True).\n"
          ],
          "name": "stdout"
        }
      ]
    },
    {
      "cell_type": "code",
      "metadata": {
        "id": "Y4ovBPtuUHey",
        "colab_type": "code",
        "colab": {}
      },
      "source": [
        "data = pd.read_csv('/content/drive/My Drive/Final_year_Project/Datasets/dataset.csv')"
      ],
      "execution_count": null,
      "outputs": []
    },
    {
      "cell_type": "code",
      "metadata": {
        "id": "KmhpDTivUSkx",
        "colab_type": "code",
        "colab": {}
      },
      "source": [
        "import numpy as np\n",
        "import pandas as pd\n",
        "from sklearn.cluster import KMeans\n",
        "from sklearn.neighbors import KNeighborsClassifier\n",
        "from sklearn.model_selection import train_test_split\n",
        "from sklearn.preprocessing import normalize\n",
        "from sklearn.metrics import confusion_matrix\n",
        "from sklearn.metrics import accuracy_score\n",
        "from sklearn.metrics import precision_score\n",
        "from sklearn.metrics import recall_score\n",
        "from sklearn.metrics import f1_score\n",
        "import time\n"
      ],
      "execution_count": null,
      "outputs": []
    },
    {
      "cell_type": "code",
      "metadata": {
        "id": "yz4M2KzfUxmA",
        "colab_type": "code",
        "colab": {}
      },
      "source": [
        "X = data.iloc[:,1:26]\n",
        "y = data.iloc[:,0]\n",
        "\n",
        "\n",
        "train_features,test_features,train_labels,test_labels=train_test_split(X,y,train_size=0.80,random_state=10)\n",
        "train_features=normalize(train_features)\n",
        "test_features=normalize(test_features)"
      ],
      "execution_count": null,
      "outputs": []
    },
    {
      "cell_type": "code",
      "metadata": {
        "id": "4vaNmm1ZU0FR",
        "colab_type": "code",
        "colab": {}
      },
      "source": [
        "kmeans=KMeans(n_clusters=4,random_state=0,algorithm=\"elkan\",max_iter=10000,n_jobs=-1)\n",
        "kmeans.fit(train_features)\n",
        "kmeans_predicted_train_labels=kmeans.predict(train_features)"
      ],
      "execution_count": null,
      "outputs": []
    },
    {
      "cell_type": "code",
      "metadata": {
        "id": "WKEXhzM3U7Jp",
        "colab_type": "code",
        "colab": {
          "base_uri": "https://localhost:8080/",
          "height": 629
        },
        "outputId": "1d36d2d7-ab52-4d64-ae66-e7f75429583d"
      },
      "source": [
        "centroids = kmeans.cluster_centers_\n",
        "centroids"
      ],
      "execution_count": null,
      "outputs": [
        {
          "output_type": "execute_result",
          "data": {
            "text/plain": [
              "array([[ 2.78992556e-02,  8.46906794e-01, -7.68502561e-02,\n",
              "        -4.95253300e-02, -7.34259797e-02, -7.64136525e-02,\n",
              "        -7.68543594e-02, -7.69001789e-02, -7.69092925e-02,\n",
              "        -7.69092925e-02, -7.69092925e-02, -7.69092925e-02,\n",
              "        -7.69092925e-02, -7.69092925e-02, -7.69092925e-02,\n",
              "        -7.69092925e-02,  1.42006726e-02, -6.84166591e-02,\n",
              "        -7.69092925e-02, -7.69092925e-02, -7.69092925e-02,\n",
              "        -7.69092925e-02,  1.70067225e-02,  5.33949776e-03,\n",
              "         4.90188075e-02],\n",
              "       [ 1.77955709e-03,  6.44105268e-02, -2.34735247e-03,\n",
              "         1.10848437e-01,  2.83735676e-01,  1.49434858e-01,\n",
              "         7.83637752e-02,  4.77259206e-02,  3.13655078e-02,\n",
              "         2.16734700e-02,  1.37811090e-02, -3.67201757e-03,\n",
              "        -4.58317199e-03, -4.81613841e-03, -4.82462887e-03,\n",
              "        -4.82517496e-03,  1.61582024e-03,  2.42914989e-01,\n",
              "         5.18467991e-03,  4.95798931e-03,  1.20884351e-02,\n",
              "        -4.41906617e-03,  1.70893096e-03,  5.46264629e-04,\n",
              "         2.95295339e-01],\n",
              "       [ 2.96037809e-03,  1.01182665e-01, -5.38725470e-03,\n",
              "         9.01655880e-01,  1.04556189e-01,  3.48334841e-02,\n",
              "         1.15896165e-02,  2.99430279e-03, -9.25967795e-04,\n",
              "        -3.02607304e-03, -4.47866978e-03, -7.73305105e-03,\n",
              "        -7.88598331e-03, -7.98185696e-03, -7.98555276e-03,\n",
              "        -7.98592091e-03,  1.99442785e-03,  3.15332910e-02,\n",
              "        -5.61256637e-03, -5.64332655e-03, -4.24535142e-03,\n",
              "        -7.89265774e-03,  1.99650530e-03,  6.17222093e-04,\n",
              "         4.23691951e-02],\n",
              "       [ 6.22456222e-05,  2.97132547e-03,  9.80885421e-01,\n",
              "         3.45787524e-02,  2.73334188e-02,  2.23540122e-02,\n",
              "         1.74180860e-02,  1.40502015e-02,  1.16627570e-02,\n",
              "         9.30470084e-03,  7.21633884e-03,  5.21651327e-04,\n",
              "         2.56872617e-03,  3.74331378e-06, -1.13398856e-04,\n",
              "        -1.35591734e-04,  4.98155537e-05,  1.86004361e-02,\n",
              "         3.83011807e-03,  3.68379985e-03,  6.81944692e-03,\n",
              "         3.62221537e-05,  4.25299440e-05,  1.33852212e-05,\n",
              "         1.74832107e-02]])"
            ]
          },
          "metadata": {
            "tags": []
          },
          "execution_count": 13
        }
      ]
    },
    {
      "cell_type": "code",
      "metadata": {
        "id": "OBLinyKKaqds",
        "colab_type": "code",
        "colab": {
          "base_uri": "https://localhost:8080/",
          "height": 34
        },
        "outputId": "60e63221-0ff3-400d-bfe3-cd37c77543e5"
      },
      "source": [
        "\n",
        "\n",
        "for i in range (len(centroids)):\n",
        "  X = int(len(centroids[i])*0.7)\n",
        "X\n"
      ],
      "execution_count": null,
      "outputs": [
        {
          "output_type": "execute_result",
          "data": {
            "text/plain": [
              "17"
            ]
          },
          "metadata": {
            "tags": []
          },
          "execution_count": 40
        }
      ]
    },
    {
      "cell_type": "code",
      "metadata": {
        "id": "OYNuugrMWE0f",
        "colab_type": "code",
        "colab": {}
      },
      "source": [
        "X = np.array([[2.78992556e-02,  8.46906794e-01, -7.68502561e-02,\n",
        "        -4.95253300e-02, -7.34259797e-02, -7.64136525e-02,\n",
        "        -7.68543594e-02, -7.69001789e-02, -7.69092925e-02,\n",
        "        -7.69092925e-02, -7.69092925e-02, -7.69092925e-02,\n",
        "        -7.69092925e-02, -7.69092925e-02, -7.69092925e-02,\n",
        "        -7.69092925e-02,  1.42006726e-02, -6.84166591e-02],[1.77955709e-03,  6.44105268e-02, -2.34735247e-03,\n",
        "         1.10848437e-01,  2.83735676e-01,  1.49434858e-01,\n",
        "         7.83637752e-02,  4.77259206e-02,  3.13655078e-02,\n",
        "         2.16734700e-02,  1.37811090e-02, -3.67201757e-03,\n",
        "        -4.58317199e-03, -4.81613841e-03, -4.82462887e-03,\n",
        "        -4.82517496e-03,  1.61582024e-03,  2.42914989e-01],[ 2.96037809e-03,  1.01182665e-01, -5.38725470e-03,\n",
        "         9.01655880e-01,  1.04556189e-01,  3.48334841e-02,\n",
        "         1.15896165e-02,  2.99430279e-03, -9.25967795e-04,\n",
        "        -3.02607304e-03, -4.47866978e-03, -7.73305105e-03,\n",
        "        -7.88598331e-03, -7.98185696e-03, -7.98555276e-03,\n",
        "        -7.98592091e-03,  1.99442785e-03,  3.15332910e-02],[6.22456222e-05,  2.97132547e-03,  9.80885421e-01,\n",
        "         3.45787524e-02,  2.73334188e-02,  2.23540122e-02,\n",
        "         1.74180860e-02,  1.40502015e-02,  1.16627570e-02,\n",
        "         9.30470084e-03,  7.21633884e-03,  5.21651327e-04,\n",
        "         2.56872617e-03,  3.74331378e-06, -1.13398856e-04,\n",
        "        -1.35591734e-04,  4.98155537e-05,  1.86004361e-02]])"
      ],
      "execution_count": null,
      "outputs": []
    },
    {
      "cell_type": "code",
      "metadata": {
        "id": "hVGHH9QoZFLG",
        "colab_type": "code",
        "colab": {
          "base_uri": "https://localhost:8080/",
          "height": 34
        },
        "outputId": "1fb0b1ce-9077-4657-9f1b-d9c2e5213717"
      },
      "source": [
        "X.shape"
      ],
      "execution_count": null,
      "outputs": [
        {
          "output_type": "execute_result",
          "data": {
            "text/plain": [
              "(4, 18)"
            ]
          },
          "metadata": {
            "tags": []
          },
          "execution_count": 31
        }
      ]
    },
    {
      "cell_type": "code",
      "metadata": {
        "id": "AMRplP8RZUqA",
        "colab_type": "code",
        "colab": {}
      },
      "source": [
        "y = np.array([[ -7.69092925e-02, -7.69092925e-02, -7.69092925e-02,\n",
        "        -7.69092925e-02,  1.70067225e-02,  5.33949776e-03,\n",
        "         4.90188075e-02],[5.18467991e-03,  4.95798931e-03,  1.20884351e-02,\n",
        "        -4.41906617e-03,  1.70893096e-03,  5.46264629e-04,\n",
        "         2.95295339e-01],[-5.61256637e-03, -5.64332655e-03, -4.24535142e-03,\n",
        "        -7.89265774e-03,  1.99650530e-03,  6.17222093e-04,\n",
        "         4.23691951e-02],[3.83011807e-03,  3.68379985e-03,  6.81944692e-03,\n",
        "         3.62221537e-05,  4.25299440e-05,  1.33852212e-05,\n",
        "         1.74832107e-02]])"
      ],
      "execution_count": null,
      "outputs": []
    },
    {
      "cell_type": "code",
      "metadata": {
        "id": "imABd3e6Zpg9",
        "colab_type": "code",
        "colab": {
          "base_uri": "https://localhost:8080/",
          "height": 34
        },
        "outputId": "44f2866d-5690-48ff-eb49-23b9580037c0"
      },
      "source": [
        "y.shape"
      ],
      "execution_count": null,
      "outputs": [
        {
          "output_type": "execute_result",
          "data": {
            "text/plain": [
              "(4, 7)"
            ]
          },
          "metadata": {
            "tags": []
          },
          "execution_count": 33
        }
      ]
    },
    {
      "cell_type": "code",
      "metadata": {
        "id": "KNFFUmzIeTOY",
        "colab_type": "code",
        "colab": {}
      },
      "source": [
        "  from sklearn import utils\n",
        "  \n",
        "  print(utils.multiclass.type_of_target(y))\n",
        "  print(utils.multiclass.type_of_target(y.astype('int')))\n",
        "  \n",
        "  knn=KNeighborsClassifier(n_neighbors=5,algorithm=\"kd_tree\",n_jobs=-1)\n",
        "  knn.fit(X,y)\n",
        "  knn_predicted_test_labels=knn.predict(y)"
      ],
      "execution_count": null,
      "outputs": []
    },
    {
      "cell_type": "code",
      "metadata": {
        "id": "Y2VAfJ4zYbi5",
        "colab_type": "code",
        "colab": {}
      },
      "source": [
        "import numpy as np\n",
        "import matplotlib.pyplot as plt\n",
        "from sklearn.neighbors.nca import NeighborhoodComponentsAnalysis\n",
        "from sklearn.neighbors import KNeighborsClassifier\n",
        "from sklearn.preprocessing import normalize\n",
        "from sklearn.model_selection import train_test_split"
      ],
      "execution_count": null,
      "outputs": []
    },
    {
      "cell_type": "code",
      "metadata": {
        "id": "Ct40YLCCc1K9",
        "colab_type": "code",
        "colab": {}
      },
      "source": [
        "for i in range(len(centroids)):\n",
        "  X = data.iloc[:,1:26]\n",
        "  y = data.iloc[:,0]\n",
        "  X_train, X_test, y_train, y_test = train_test_split(X, y, test_size=0.7, random_state=42)\n",
        "  X_train = normalize(X_train)\n",
        "  X_test = normalize(X_test)"
      ],
      "execution_count": null,
      "outputs": []
    },
    {
      "cell_type": "code",
      "metadata": {
        "id": "RFJDUV66iXZ7",
        "colab_type": "code",
        "colab": {
          "base_uri": "https://localhost:8080/",
          "height": 238
        },
        "outputId": "d5a49b9f-e910-4860-e957-63afd72a250a"
      },
      "source": [
        "X_train"
      ],
      "execution_count": null,
      "outputs": [
        {
          "output_type": "execute_result",
          "data": {
            "text/plain": [
              "array([[ 0.00000000e+00,  2.13689033e-03,  9.99917301e-01, ...,\n",
              "         0.00000000e+00,  0.00000000e+00,  4.12640891e-03],\n",
              "       [ 0.00000000e+00,  1.23273745e-01, -5.87017834e-03, ...,\n",
              "         0.00000000e+00,  0.00000000e+00,  9.92060140e-01],\n",
              "       [ 1.12317020e-02,  1.46012126e-01, -1.12317020e-02, ...,\n",
              "         1.12317020e-02,  0.00000000e+00,  7.52524032e-01],\n",
              "       ...,\n",
              "       [ 4.34389394e-05,  1.73755757e-03,  9.92970715e-01, ...,\n",
              "         0.00000000e+00,  4.34389394e-05,  6.77647454e-03],\n",
              "       [ 0.00000000e+00,  5.59778896e-03, -5.08889905e-04, ...,\n",
              "         5.08889905e-04,  0.00000000e+00,  0.00000000e+00],\n",
              "       [ 0.00000000e+00,  1.42101695e-03,  9.98199819e-01, ...,\n",
              "         0.00000000e+00,  0.00000000e+00,  0.00000000e+00]])"
            ]
          },
          "metadata": {
            "tags": []
          },
          "execution_count": 6
        }
      ]
    },
    {
      "cell_type": "code",
      "metadata": {
        "id": "X9ecX42shnN-",
        "colab_type": "code",
        "colab": {}
      },
      "source": [
        "nca = NeighborhoodComponentsAnalysis(random_state=42)\n",
        "nca.fit(X_train,y_train) \n",
        "knn = KNeighborsClassifier(n_neighbors=3)\n",
        "knn.fit(X_train,y_train) \n",
        "print(knn.score(X_test, y_test)) "
      ],
      "execution_count": null,
      "outputs": []
    },
    {
      "cell_type": "code",
      "metadata": {
        "id": "0TKIBXnHd-n1",
        "colab_type": "code",
        "colab": {}
      },
      "source": [
        "knn.fit(nca.transform(X_train), y_train) \n",
        "print(knn.score(nca.transform(X_test), y_test)) \n"
      ],
      "execution_count": null,
      "outputs": []
    }
  ]
}